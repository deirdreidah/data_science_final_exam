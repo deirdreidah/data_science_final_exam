{
 "cells": [
  {
   "cell_type": "markdown",
   "id": "d3b5db81-058b-4b0a-b0aa-56c7bfd26260",
   "metadata": {},
   "source": [
    "## 2024/DSC/0085/SS"
   ]
  },
  {
   "cell_type": "markdown",
   "id": "82b84410-e529-4d59-a581-eb45709638ff",
   "metadata": {},
   "source": [
    "## Number 1"
   ]
  },
  {
   "cell_type": "code",
   "execution_count": 55,
   "id": "8f5d21f2-8e00-4712-8ed0-212a170e8758",
   "metadata": {},
   "outputs": [],
   "source": [
    "import pandas as pd"
   ]
  },
  {
   "cell_type": "code",
   "execution_count": 56,
   "id": "00961361-c270-4be2-a949-12f9046f4ef2",
   "metadata": {},
   "outputs": [],
   "source": [
    "import openpyxl\n",
    "#https://stackoverflow.com/questions/16888888/how-to-read-a-xlsx-file-using-the-pandas-library-in-ipython?rq=3\n",
    "#this is where i learnt that we need to import openpyxl as one of the libraries to help us import our excel file."
   ]
  },
  {
   "cell_type": "code",
   "execution_count": 57,
   "id": "368e285f-35f2-4918-9223-417cefb3501e",
   "metadata": {},
   "outputs": [],
   "source": [
    "wages_df = pd.read_excel(\"Wages 2020Census cleaned.xlsx\")\n",
    "#i got to know more about how to import excel datasets from the notebook of Intro to Pandas.ipynb(b.Loading Excel Files)"
   ]
  },
  {
   "cell_type": "code",
   "execution_count": 58,
   "id": "6fbf3a9b-fe86-4703-b6e4-2e82790cc5ae",
   "metadata": {},
   "outputs": [
    {
     "data": {
      "text/html": [
       "<div>\n",
       "<style scoped>\n",
       "    .dataframe tbody tr th:only-of-type {\n",
       "        vertical-align: middle;\n",
       "    }\n",
       "\n",
       "    .dataframe tbody tr th {\n",
       "        vertical-align: top;\n",
       "    }\n",
       "\n",
       "    .dataframe thead th {\n",
       "        text-align: right;\n",
       "    }\n",
       "</style>\n",
       "<table border=\"1\" class=\"dataframe\">\n",
       "  <thead>\n",
       "    <tr style=\"text-align: right;\">\n",
       "      <th></th>\n",
       "      <th>Age</th>\n",
       "      <th>Sex</th>\n",
       "      <th>Marital_status</th>\n",
       "      <th>Number_of_children</th>\n",
       "      <th>Family_size</th>\n",
       "      <th>Education-degree_recode</th>\n",
       "      <th>Education-degree_recode 2</th>\n",
       "      <th>Education</th>\n",
       "      <th>Race_ethnicity-multi_recode</th>\n",
       "      <th>Immigrate-year</th>\n",
       "      <th>Birthplace_recode</th>\n",
       "      <th>Speaks_English</th>\n",
       "      <th>Employment_status</th>\n",
       "      <th>Income-wages</th>\n",
       "      <th>Region_recode</th>\n",
       "      <th>Region-division_recode</th>\n",
       "      <th>Moved</th>\n",
       "      <th>Year</th>\n",
       "      <th>state</th>\n",
       "    </tr>\n",
       "  </thead>\n",
       "  <tbody>\n",
       "    <tr>\n",
       "      <th>0</th>\n",
       "      <td>30</td>\n",
       "      <td>Male</td>\n",
       "      <td>Married, spouse present</td>\n",
       "      <td>2</td>\n",
       "      <td>4</td>\n",
       "      <td>Masterâ€™s or professional degree</td>\n",
       "      <td>Master or professional degree</td>\n",
       "      <td>Master or PhD or professional degree</td>\n",
       "      <td>Non-Hispanic White</td>\n",
       "      <td>0</td>\n",
       "      <td>U.S. state, territory, or outlying region</td>\n",
       "      <td>Yes, speaks only English</td>\n",
       "      <td>Employed</td>\n",
       "      <td>63000</td>\n",
       "      <td>South</td>\n",
       "      <td>East South Central</td>\n",
       "      <td>Same house</td>\n",
       "      <td>2020</td>\n",
       "      <td>Tennessee</td>\n",
       "    </tr>\n",
       "    <tr>\n",
       "      <th>1</th>\n",
       "      <td>28</td>\n",
       "      <td>Female</td>\n",
       "      <td>Married, spouse present</td>\n",
       "      <td>1 child present</td>\n",
       "      <td>3</td>\n",
       "      <td>Masterâ€™s or professional degree</td>\n",
       "      <td>Master or professional degree</td>\n",
       "      <td>Master or PhD or professional degree</td>\n",
       "      <td>Non-Hispanic White</td>\n",
       "      <td>0</td>\n",
       "      <td>U.S. state, territory, or outlying region</td>\n",
       "      <td>Yes, speaks only English</td>\n",
       "      <td>Employed</td>\n",
       "      <td>46000</td>\n",
       "      <td>South</td>\n",
       "      <td>East South Central</td>\n",
       "      <td>Same house</td>\n",
       "      <td>2020</td>\n",
       "      <td>Tennessee</td>\n",
       "    </tr>\n",
       "    <tr>\n",
       "      <th>2</th>\n",
       "      <td>34</td>\n",
       "      <td>Male</td>\n",
       "      <td>Married, spouse present</td>\n",
       "      <td>1 child present</td>\n",
       "      <td>3</td>\n",
       "      <td>Bachelorâ€™s degree</td>\n",
       "      <td>Bachelor degree</td>\n",
       "      <td>Associate or Bachelor degree</td>\n",
       "      <td>Non-Hispanic White</td>\n",
       "      <td>0</td>\n",
       "      <td>U.S. state, territory, or outlying region</td>\n",
       "      <td>Yes, speaks only English</td>\n",
       "      <td>Employed</td>\n",
       "      <td>45000</td>\n",
       "      <td>South</td>\n",
       "      <td>East South Central</td>\n",
       "      <td>Same house</td>\n",
       "      <td>2020</td>\n",
       "      <td>Tennessee</td>\n",
       "    </tr>\n",
       "    <tr>\n",
       "      <th>3</th>\n",
       "      <td>58</td>\n",
       "      <td>Female</td>\n",
       "      <td>Married, spouse absent</td>\n",
       "      <td>1 child present</td>\n",
       "      <td>2</td>\n",
       "      <td>1 or more years of college, no degree</td>\n",
       "      <td>1 or more years of college, no degree</td>\n",
       "      <td>1 or more years of college, no degree</td>\n",
       "      <td>Non-Hispanic White</td>\n",
       "      <td>0</td>\n",
       "      <td>U.S. state, territory, or outlying region</td>\n",
       "      <td>Yes, speaks only English</td>\n",
       "      <td>Employed</td>\n",
       "      <td>55000</td>\n",
       "      <td>South</td>\n",
       "      <td>East South Central</td>\n",
       "      <td>Same house</td>\n",
       "      <td>2020</td>\n",
       "      <td>Tennessee</td>\n",
       "    </tr>\n",
       "    <tr>\n",
       "      <th>4</th>\n",
       "      <td>39</td>\n",
       "      <td>Male</td>\n",
       "      <td>Never married/single</td>\n",
       "      <td>0 children present</td>\n",
       "      <td>1</td>\n",
       "      <td>Bachelorâ€™s degree</td>\n",
       "      <td>Bachelor degree</td>\n",
       "      <td>Associate or Bachelor degree</td>\n",
       "      <td>Non-Hispanic White</td>\n",
       "      <td>0</td>\n",
       "      <td>U.S. state, territory, or outlying region</td>\n",
       "      <td>Yes, speaks only English</td>\n",
       "      <td>Employed</td>\n",
       "      <td>12000</td>\n",
       "      <td>South</td>\n",
       "      <td>East South Central</td>\n",
       "      <td>Same house</td>\n",
       "      <td>2020</td>\n",
       "      <td>Tennessee</td>\n",
       "    </tr>\n",
       "  </tbody>\n",
       "</table>\n",
       "</div>"
      ],
      "text/plain": [
       "   Age     Sex           Marital_status  Number_of_children  Family_size  \\\n",
       "0   30    Male  Married, spouse present                   2            4   \n",
       "1   28  Female  Married, spouse present     1 child present            3   \n",
       "2   34    Male  Married, spouse present     1 child present            3   \n",
       "3   58  Female   Married, spouse absent     1 child present            2   \n",
       "4   39    Male     Never married/single  0 children present            1   \n",
       "\n",
       "                 Education-degree_recode  \\\n",
       "0      Masterâ€™s or professional degree   \n",
       "1      Masterâ€™s or professional degree   \n",
       "2                    Bachelorâ€™s degree   \n",
       "3  1 or more years of college, no degree   \n",
       "4                    Bachelorâ€™s degree   \n",
       "\n",
       "               Education-degree_recode 2  \\\n",
       "0          Master or professional degree   \n",
       "1          Master or professional degree   \n",
       "2                        Bachelor degree   \n",
       "3  1 or more years of college, no degree   \n",
       "4                        Bachelor degree   \n",
       "\n",
       "                               Education Race_ethnicity-multi_recode  \\\n",
       "0   Master or PhD or professional degree          Non-Hispanic White   \n",
       "1   Master or PhD or professional degree          Non-Hispanic White   \n",
       "2           Associate or Bachelor degree          Non-Hispanic White   \n",
       "3  1 or more years of college, no degree          Non-Hispanic White   \n",
       "4           Associate or Bachelor degree          Non-Hispanic White   \n",
       "\n",
       "   Immigrate-year                          Birthplace_recode  \\\n",
       "0               0  U.S. state, territory, or outlying region   \n",
       "1               0  U.S. state, territory, or outlying region   \n",
       "2               0  U.S. state, territory, or outlying region   \n",
       "3               0  U.S. state, territory, or outlying region   \n",
       "4               0  U.S. state, territory, or outlying region   \n",
       "\n",
       "             Speaks_English Employment_status  Income-wages Region_recode  \\\n",
       "0  Yes, speaks only English          Employed         63000         South   \n",
       "1  Yes, speaks only English          Employed         46000         South   \n",
       "2  Yes, speaks only English          Employed         45000         South   \n",
       "3  Yes, speaks only English          Employed         55000         South   \n",
       "4  Yes, speaks only English          Employed         12000         South   \n",
       "\n",
       "  Region-division_recode       Moved  Year      state  \n",
       "0     East South Central  Same house  2020  Tennessee  \n",
       "1     East South Central  Same house  2020  Tennessee  \n",
       "2     East South Central  Same house  2020  Tennessee  \n",
       "3     East South Central  Same house  2020  Tennessee  \n",
       "4     East South Central  Same house  2020  Tennessee  "
      ]
     },
     "execution_count": 58,
     "metadata": {},
     "output_type": "execute_result"
    }
   ],
   "source": [
    "wages_df.head()#i got the top five values of the data so that i could get an overview on the data set am dealing with."
   ]
  },
  {
   "cell_type": "code",
   "execution_count": 59,
   "id": "078af9ab-f779-49fc-9dc9-e25df5ca4a96",
   "metadata": {},
   "outputs": [
    {
     "data": {
      "text/html": [
       "<div>\n",
       "<style scoped>\n",
       "    .dataframe tbody tr th:only-of-type {\n",
       "        vertical-align: middle;\n",
       "    }\n",
       "\n",
       "    .dataframe tbody tr th {\n",
       "        vertical-align: top;\n",
       "    }\n",
       "\n",
       "    .dataframe thead th {\n",
       "        text-align: right;\n",
       "    }\n",
       "</style>\n",
       "<table border=\"1\" class=\"dataframe\">\n",
       "  <thead>\n",
       "    <tr style=\"text-align: right;\">\n",
       "      <th></th>\n",
       "      <th>Age</th>\n",
       "      <th>Sex</th>\n",
       "      <th>Marital_status</th>\n",
       "      <th>Number_of_children</th>\n",
       "      <th>Family_size</th>\n",
       "      <th>Education-degree_recode</th>\n",
       "      <th>Education-degree_recode 2</th>\n",
       "      <th>Education</th>\n",
       "      <th>Race_ethnicity-multi_recode</th>\n",
       "      <th>Immigrate-year</th>\n",
       "      <th>Birthplace_recode</th>\n",
       "      <th>Speaks_English</th>\n",
       "      <th>Employment_status</th>\n",
       "      <th>Income-wages</th>\n",
       "      <th>Region_recode</th>\n",
       "      <th>Region-division_recode</th>\n",
       "      <th>Moved</th>\n",
       "      <th>Year</th>\n",
       "      <th>state</th>\n",
       "    </tr>\n",
       "  </thead>\n",
       "  <tbody>\n",
       "    <tr>\n",
       "      <th>4360</th>\n",
       "      <td>67</td>\n",
       "      <td>Male</td>\n",
       "      <td>Married, spouse present</td>\n",
       "      <td>0 children present</td>\n",
       "      <td>2</td>\n",
       "      <td>Bachelorâ€™s degree</td>\n",
       "      <td>Bachelor degree</td>\n",
       "      <td>Associate or Bachelor degree</td>\n",
       "      <td>Non-Hispanic White</td>\n",
       "      <td>0</td>\n",
       "      <td>U.S. state, territory, or outlying region</td>\n",
       "      <td>Yes, speaks only English</td>\n",
       "      <td>Employed</td>\n",
       "      <td>40000</td>\n",
       "      <td>Midwest</td>\n",
       "      <td>West North Central</td>\n",
       "      <td>Same house</td>\n",
       "      <td>2020</td>\n",
       "      <td>North Dakota</td>\n",
       "    </tr>\n",
       "    <tr>\n",
       "      <th>4361</th>\n",
       "      <td>48</td>\n",
       "      <td>Male</td>\n",
       "      <td>Married, spouse present</td>\n",
       "      <td>4</td>\n",
       "      <td>6</td>\n",
       "      <td>Associateâ€™s degree</td>\n",
       "      <td>Associate degree</td>\n",
       "      <td>Associate or Bachelor degree</td>\n",
       "      <td>Non-Hispanic White</td>\n",
       "      <td>0</td>\n",
       "      <td>U.S. state, territory, or outlying region</td>\n",
       "      <td>Yes, speaks only English</td>\n",
       "      <td>Employed</td>\n",
       "      <td>65000</td>\n",
       "      <td>Midwest</td>\n",
       "      <td>West North Central</td>\n",
       "      <td>Same house</td>\n",
       "      <td>2020</td>\n",
       "      <td>North Dakota</td>\n",
       "    </tr>\n",
       "    <tr>\n",
       "      <th>4362</th>\n",
       "      <td>33</td>\n",
       "      <td>Male</td>\n",
       "      <td>Married, spouse absent</td>\n",
       "      <td>0 children present</td>\n",
       "      <td>1</td>\n",
       "      <td>Associateâ€™s degree</td>\n",
       "      <td>Associate degree</td>\n",
       "      <td>Associate or Bachelor degree</td>\n",
       "      <td>Non-Hispanic Black</td>\n",
       "      <td>2017</td>\n",
       "      <td>Africa</td>\n",
       "      <td>Yes, speaks very well</td>\n",
       "      <td>Employed</td>\n",
       "      <td>45000</td>\n",
       "      <td>Midwest</td>\n",
       "      <td>West North Central</td>\n",
       "      <td>Same house</td>\n",
       "      <td>2020</td>\n",
       "      <td>North Dakota</td>\n",
       "    </tr>\n",
       "    <tr>\n",
       "      <th>4363</th>\n",
       "      <td>22</td>\n",
       "      <td>Female</td>\n",
       "      <td>Never married/single</td>\n",
       "      <td>0 children present</td>\n",
       "      <td>2</td>\n",
       "      <td>1 or more years of college, no degree</td>\n",
       "      <td>1 or more years of college, no degree</td>\n",
       "      <td>1 or more years of college, no degree</td>\n",
       "      <td>Non-Hispanic White</td>\n",
       "      <td>0</td>\n",
       "      <td>U.S. state, territory, or outlying region</td>\n",
       "      <td>Yes, speaks only English</td>\n",
       "      <td>Employed</td>\n",
       "      <td>500</td>\n",
       "      <td>Midwest</td>\n",
       "      <td>West North Central</td>\n",
       "      <td>Same house</td>\n",
       "      <td>2020</td>\n",
       "      <td>North Dakota</td>\n",
       "    </tr>\n",
       "    <tr>\n",
       "      <th>4364</th>\n",
       "      <td>49</td>\n",
       "      <td>Female</td>\n",
       "      <td>Married, spouse present</td>\n",
       "      <td>2</td>\n",
       "      <td>4</td>\n",
       "      <td>Masterâ€™s or professional degree</td>\n",
       "      <td>Master or professional degree</td>\n",
       "      <td>Master or PhD or professional degree</td>\n",
       "      <td>Non-Hispanic White</td>\n",
       "      <td>0</td>\n",
       "      <td>U.S. state, territory, or outlying region</td>\n",
       "      <td>Yes, speaks only English</td>\n",
       "      <td>Employed</td>\n",
       "      <td>498000</td>\n",
       "      <td>Midwest</td>\n",
       "      <td>West North Central</td>\n",
       "      <td>Same house</td>\n",
       "      <td>2020</td>\n",
       "      <td>North Dakota</td>\n",
       "    </tr>\n",
       "  </tbody>\n",
       "</table>\n",
       "</div>"
      ],
      "text/plain": [
       "      Age     Sex           Marital_status  Number_of_children  Family_size  \\\n",
       "4360   67    Male  Married, spouse present  0 children present            2   \n",
       "4361   48    Male  Married, spouse present                   4            6   \n",
       "4362   33    Male   Married, spouse absent  0 children present            1   \n",
       "4363   22  Female     Never married/single  0 children present            2   \n",
       "4364   49  Female  Married, spouse present                   2            4   \n",
       "\n",
       "                    Education-degree_recode  \\\n",
       "4360                    Bachelorâ€™s degree   \n",
       "4361                   Associateâ€™s degree   \n",
       "4362                   Associateâ€™s degree   \n",
       "4363  1 or more years of college, no degree   \n",
       "4364      Masterâ€™s or professional degree   \n",
       "\n",
       "                  Education-degree_recode 2  \\\n",
       "4360                        Bachelor degree   \n",
       "4361                       Associate degree   \n",
       "4362                       Associate degree   \n",
       "4363  1 or more years of college, no degree   \n",
       "4364          Master or professional degree   \n",
       "\n",
       "                                  Education Race_ethnicity-multi_recode  \\\n",
       "4360           Associate or Bachelor degree          Non-Hispanic White   \n",
       "4361           Associate or Bachelor degree          Non-Hispanic White   \n",
       "4362           Associate or Bachelor degree          Non-Hispanic Black   \n",
       "4363  1 or more years of college, no degree          Non-Hispanic White   \n",
       "4364   Master or PhD or professional degree          Non-Hispanic White   \n",
       "\n",
       "      Immigrate-year                          Birthplace_recode  \\\n",
       "4360               0  U.S. state, territory, or outlying region   \n",
       "4361               0  U.S. state, territory, or outlying region   \n",
       "4362            2017                                     Africa   \n",
       "4363               0  U.S. state, territory, or outlying region   \n",
       "4364               0  U.S. state, territory, or outlying region   \n",
       "\n",
       "                Speaks_English Employment_status  Income-wages Region_recode  \\\n",
       "4360  Yes, speaks only English          Employed         40000       Midwest   \n",
       "4361  Yes, speaks only English          Employed         65000       Midwest   \n",
       "4362     Yes, speaks very well          Employed         45000       Midwest   \n",
       "4363  Yes, speaks only English          Employed           500       Midwest   \n",
       "4364  Yes, speaks only English          Employed        498000       Midwest   \n",
       "\n",
       "     Region-division_recode       Moved  Year         state  \n",
       "4360     West North Central  Same house  2020  North Dakota  \n",
       "4361     West North Central  Same house  2020  North Dakota  \n",
       "4362     West North Central  Same house  2020  North Dakota  \n",
       "4363     West North Central  Same house  2020  North Dakota  \n",
       "4364     West North Central  Same house  2020  North Dakota  "
      ]
     },
     "execution_count": 59,
     "metadata": {},
     "output_type": "execute_result"
    }
   ],
   "source": [
    "wages_df.tail()#i got the last five values of the data so that i could get an overview on the data set am dealing with."
   ]
  },
  {
   "cell_type": "markdown",
   "id": "4c430d55-37bf-49cb-a1d1-232a99ea5966",
   "metadata": {},
   "source": [
    "## a)"
   ]
  },
  {
   "cell_type": "code",
   "execution_count": 60,
   "id": "ef26e7ce-a84d-4669-9413-64d0698449a7",
   "metadata": {},
   "outputs": [
    {
     "data": {
      "text/plain": [
       "np.float64(58704.16494845361)"
      ]
     },
     "execution_count": 60,
     "metadata": {},
     "output_type": "execute_result"
    }
   ],
   "source": [
    "#https://stackoverflow.com/questions/53771596/how-to-find-average-salary-for-each-job-role-from-a-file-in-python\n",
    "#from here i found out that i could use groupby to get the mean and median as a way of getting the typical yearly income.\n",
    "mean_income = wages_df[\"Income-wages\"].mean()\n",
    "mean_income #the output is the average yearly income of all the people\n",
    "#The mean income is 58704"
   ]
  },
  {
   "cell_type": "code",
   "execution_count": 61,
   "id": "3a89362e-f345-41cf-9ba4-ad1f26662179",
   "metadata": {},
   "outputs": [
    {
     "data": {
      "text/plain": [
       "np.float64(41000.0)"
      ]
     },
     "execution_count": 61,
     "metadata": {},
     "output_type": "execute_result"
    }
   ],
   "source": [
    "median_income = wages_df[\"Income-wages\"].median()\n",
    "median_income #the output is the median which is like the middle income.\n",
    "#The median income is 41000."
   ]
  },
  {
   "cell_type": "markdown",
   "id": "c645f6c6-364b-4b4e-9f14-fb535b367daa",
   "metadata": {},
   "source": [
    "## b)"
   ]
  },
  {
   "cell_type": "code",
   "execution_count": 62,
   "id": "ba6d2497-1aff-4c84-a863-3f216afba7f6",
   "metadata": {},
   "outputs": [],
   "source": [
    "#https://www.analyticsvidhya.com/blog/2021/04/dispersion-of-data-range-iqr-variance-standard-deviation/\n",
    "#I learnt that variability is something about dispersion of data. \n",
    "#So i decided to use interquartile range and range to know how these people's income varies."
   ]
  },
  {
   "cell_type": "code",
   "execution_count": 63,
   "id": "184ea077-1c68-4f79-b8f0-f88c6b3a68ea",
   "metadata": {},
   "outputs": [
    {
     "data": {
      "text/plain": [
       "np.int64(660970)"
      ]
     },
     "execution_count": 63,
     "metadata": {},
     "output_type": "execute_result"
    }
   ],
   "source": [
    "max_income = wages_df[\"Income-wages\"].max()\n",
    "max_income\n",
    "min_income = wages_df[\"Income-wages\"].min()\n",
    "min_income\n",
    "income_range = max_income - min_income\n",
    "income_range\n",
    "#Our income range is 660970 which is a big range telling us there is a big variability in the income of the people."
   ]
  },
  {
   "cell_type": "code",
   "execution_count": 64,
   "id": "41de7b30-a5c0-4edc-bd9d-dc8358dc3b61",
   "metadata": {},
   "outputs": [
    {
     "data": {
      "text/plain": [
       "np.float64(49000.0)"
      ]
     },
     "execution_count": 64,
     "metadata": {},
     "output_type": "execute_result"
    }
   ],
   "source": [
    "q1 = wages_df[\"Income-wages\"].quantile(0.25) #q1 is my lower quartile which is either 25% or 0.25\n",
    "q1\n",
    "q3 = wages_df[\"Income-wages\"].quantile(0.75) #q3 is my upper quartile which is either 75% or 0.75\n",
    "q3\n",
    "interquartile_range = q3 - q1 #this is the difference between my upper quartile and my lower quartile\n",
    "interquartile_range\n",
    "#my interquartile range is 49000 which is large hence telling me this income has a large variability."
   ]
  },
  {
   "cell_type": "markdown",
   "id": "983c9927-0564-436f-855c-1f826cb20a0c",
   "metadata": {},
   "source": [
    "## c)"
   ]
  },
  {
   "cell_type": "markdown",
   "id": "189ca02e-7428-43a3-a2c7-fb5bda71281c",
   "metadata": {},
   "source": [
    "## If there was no variability the standard deviation would be 0, also the interquartile range would be zero which shows no variability"
   ]
  },
  {
   "cell_type": "markdown",
   "id": "f1a2f005-b422-4ea0-9d93-663f9afb8cdd",
   "metadata": {},
   "source": [
    "## d)"
   ]
  },
  {
   "cell_type": "code",
   "execution_count": 65,
   "id": "13a5a7c7-f9c3-41f5-8244-97be271b7a46",
   "metadata": {},
   "outputs": [],
   "source": [
    "## no variability means all values are identical\n",
    "## the mean = income value\n",
    "## the standard deviation  = income value\n",
    "## the q1, q2 and interquartile = income value\n",
    "## the median = income value\n",
    "## the minimum income = income value\n",
    "## the maximum income = income value\n",
    "## all the values would be the same"
   ]
  },
  {
   "cell_type": "markdown",
   "id": "675a05cf-dadf-4cd5-82cc-1419dab89eef",
   "metadata": {},
   "source": [
    "## e)"
   ]
  },
  {
   "cell_type": "code",
   "execution_count": 66,
   "id": "e2b82fe2-2ce7-4d52-9b38-ffccd6e6f7ec",
   "metadata": {},
   "outputs": [],
   "source": [
    "import matplotlib.pyplot as plt\n",
    "#i am importing matplotlib.pyplot library to help me create visualizations \n",
    "import seaborn as sns\n",
    "#i am importing seaborn library for quick data exploration and understanding"
   ]
  },
  {
   "cell_type": "code",
   "execution_count": 67,
   "id": "b7b9021e-d28d-4b44-85c1-306e0832f8c4",
   "metadata": {},
   "outputs": [
    {
     "data": {
      "image/png": "[encoded data removed]",
      "text/plain": [
       "<Figure size 1800x600 with 1 Axes>"
      ]
     },
     "metadata": {},
     "output_type": "display_data"
    }
   ],
   "source": [
    "## I am going to visualise using a box plot which is Good for showing relationships between two continuous variables.\n",
    "## Income-wages and age are my two variables\n",
    "plt.figure(figsize=(18, 6))\n",
    "sns.boxplot(x=\"Age\", y=\"Income-wages\", data= wages_df)\n",
    "plt.title(\"Box Plot Showing The Relationship Between Age and Income-wages\")\n",
    "plt.xlabel(\"Age\")\n",
    "plt.ylabel(\"Income-wages\")\n",
    "plt.show()"
   ]
  },
  {
   "cell_type": "markdown",
   "id": "0273c954-79f4-4400-9f18-b7a92f43aeb1",
   "metadata": {},
   "source": [
    "## Number 2"
   ]
  },
  {
   "cell_type": "code",
   "execution_count": 68,
   "id": "29ca5a13-9e12-4f08-93d3-a3822e9bc2b7",
   "metadata": {},
   "outputs": [],
   "source": [
    "import pandas as pd"
   ]
  },
  {
   "cell_type": "code",
   "execution_count": 69,
   "id": "f7632147-bfb2-4c89-9a6c-cebff98786b5",
   "metadata": {},
   "outputs": [],
   "source": [
    "student_performance = pd.read_csv(\"student_performance_data.csv\")\n",
    "#i am importing the data set that am going to use to work out this number"
   ]
  },
  {
   "cell_type": "markdown",
   "id": "f2d40517-78c6-4fd2-8902-05c9d6d4a191",
   "metadata": {},
   "source": [
    "## a)"
   ]
  },
  {
   "cell_type": "code",
   "execution_count": 70,
   "id": "be0699e4-dc81-4b56-a591-51be3ddb77d3",
   "metadata": {},
   "outputs": [
    {
     "data": {
      "text/plain": [
       "Gender  Major      \n",
       "Female  Arts           1070\n",
       "        Business       1229\n",
       "        Education       818\n",
       "        Engineering    1196\n",
       "        Science         813\n",
       "Male    Arts            881\n",
       "        Business       1130\n",
       "        Education      1212\n",
       "        Engineering     929\n",
       "        Science         660\n",
       "Name: StudyHoursPerWeek, dtype: int64"
      ]
     },
     "execution_count": 70,
     "metadata": {},
     "output_type": "execute_result"
    }
   ],
   "source": [
    "#i got to know about grouping from the notebook intro to pandas.ipynb ,Grouping (groupby)\n",
    "# To answer this question, i have to group the data by the Gender and Major columns and sum the StudyHoursPerWeek column)\n",
    "highest_hours = student_performance.groupby(['Gender','Major'])['StudyHoursPerWeek'].sum()\n",
    "highest_hours"
   ]
  },
  {
   "cell_type": "markdown",
   "id": "f04949e7-2baf-4bbc-8cc3-d66370273d40",
   "metadata": {},
   "source": [
    "## b)"
   ]
  },
  {
   "cell_type": "code",
   "execution_count": 71,
   "id": "d6932669-74ea-4bcb-9138-c1264e5ec3c9",
   "metadata": {},
   "outputs": [
    {
     "name": "stdout",
     "output_type": "stream",
     "text": [
      "Gender :  Female, Average attendance: 75.9257421875\n"
     ]
    }
   ],
   "source": [
    "#i got to know about grouping from the notebook intro to pandas.ipynb ,Grouping (groupby)\n",
    "# To answer this question, i need to group the data by the Gendercolumn, and calculate the mean attendance rate for each gender )\n",
    "average_performance = student_performance.groupby('Gender')['AttendanceRate'].mean()\n",
    "highest_attendance = average_performance.idxmax()\n",
    "print(f'Gender :  {highest_attendance}, Average attendance: {average_performance[highest_attendance]}')"
   ]
  },
  {
   "cell_type": "markdown",
   "id": "4318595b-d76c-4d59-ad1b-aa360985670b",
   "metadata": {},
   "source": [
    "## c)"
   ]
  },
  {
   "cell_type": "code",
   "execution_count": 72,
   "id": "390de65c-3113-4283-850f-e04201876f0f",
   "metadata": {},
   "outputs": [
    {
     "data": {
      "text/plain": [
       "PartTimeJob\n",
       "Yes    53.6\n",
       "No     46.4\n",
       "Name: proportion, dtype: float64"
      ]
     },
     "execution_count": 72,
     "metadata": {},
     "output_type": "execute_result"
    }
   ],
   "source": [
    "#i got to know about grouping from the notebook intro to pandas.ipynb ,Grouping (groupby)\n",
    "# To answer this i  need to group the data by the Part time column)\n",
    "part_time_percentage = student_performance['PartTimeJob'].value_counts(normalize=True) * 100\n",
    "part_time_percentage"
   ]
  },
  {
   "cell_type": "markdown",
   "id": "891f0cd6-42cc-4922-98ac-9166feddeda0",
   "metadata": {},
   "source": [
    "## d)"
   ]
  },
  {
   "cell_type": "code",
   "execution_count": 73,
   "id": "17de8537-6f55-45cb-801f-5ca8e2bc68d9",
   "metadata": {},
   "outputs": [
    {
     "data": {
      "text/html": [
       "<div>\n",
       "<style scoped>\n",
       "    .dataframe tbody tr th:only-of-type {\n",
       "        vertical-align: middle;\n",
       "    }\n",
       "\n",
       "    .dataframe tbody tr th {\n",
       "        vertical-align: top;\n",
       "    }\n",
       "\n",
       "    .dataframe thead th {\n",
       "        text-align: right;\n",
       "    }\n",
       "</style>\n",
       "<table border=\"1\" class=\"dataframe\">\n",
       "  <thead>\n",
       "    <tr style=\"text-align: right;\">\n",
       "      <th></th>\n",
       "      <th>GPA</th>\n",
       "      <th>Age</th>\n",
       "    </tr>\n",
       "    <tr>\n",
       "      <th>Gender</th>\n",
       "      <th></th>\n",
       "      <th></th>\n",
       "    </tr>\n",
       "  </thead>\n",
       "  <tbody>\n",
       "    <tr>\n",
       "      <th>Female</th>\n",
       "      <td>2.995352</td>\n",
       "      <td>4.005637</td>\n",
       "    </tr>\n",
       "    <tr>\n",
       "      <th>Male</th>\n",
       "      <td>2.974467</td>\n",
       "      <td>3.960130</td>\n",
       "    </tr>\n",
       "  </tbody>\n",
       "</table>\n",
       "</div>"
      ],
      "text/plain": [
       "             GPA       Age\n",
       "Gender                    \n",
       "Female  2.995352  4.005637\n",
       "Male    2.974467  3.960130"
      ]
     },
     "execution_count": 73,
     "metadata": {},
     "output_type": "execute_result"
    }
   ],
   "source": [
    "#i got to know about grouping from the notebook intro to pandas.ipynb ,Grouping (groupby)\n",
    "# This question is asking to calculate the mean GPA and variance of age for a given group of data)\n",
    "mean_var = student_performance.groupby('Gender').agg({'GPA' : 'mean' , 'Age' : 'var'})\n",
    "mean_var"
   ]
  },
  {
   "cell_type": "markdown",
   "id": "3d28c99c-79b6-4906-bea1-83090d6538f0",
   "metadata": {},
   "source": [
    "## e)"
   ]
  },
  {
   "cell_type": "code",
   "execution_count": 74,
   "id": "d8d46de5-eb7f-48fd-9c31-697bd290aacd",
   "metadata": {},
   "outputs": [],
   "source": [
    "import matplotlib.pyplot as plt"
   ]
  },
  {
   "cell_type": "code",
   "execution_count": 75,
   "id": "9e2170e4-1277-4b1f-a436-b97d265ad9f2",
   "metadata": {},
   "outputs": [],
   "source": [
    "import seaborn as sns"
   ]
  },
  {
   "cell_type": "code",
   "execution_count": 76,
   "id": "c690be9b-c9b4-431f-8f12-dda38277e306",
   "metadata": {},
   "outputs": [
    {
     "data": {
      "image/png": "[encoded data removed]",
      "text/plain": [
       "<Figure size 800x600 with 1 Axes>"
      ]
     },
     "metadata": {},
     "output_type": "display_data"
    }
   ],
   "source": [
    "plt.figure(figsize=(8,6))\n",
    "sns.scatterplot(x= 'AttendanceRate', y='GPA', data = student_performance)\n",
    "plt.title('RELATIONSHIP BETWEEN ATTENDANCE RATE AND GPA')\n",
    "plt.xlabel('Attendance Rate')\n",
    "plt.ylabel('GPA')\n",
    "plt.show()\n",
    "#this scatterplot shows a relationship between attendance rate and GPA"
   ]
  },
  {
   "cell_type": "markdown",
   "id": "cf9604f1-2c12-46df-83b8-f1fd187b1518",
   "metadata": {},
   "source": [
    "## Number 3"
   ]
  },
  {
   "cell_type": "markdown",
   "id": "8440c62e-86eb-4ed0-97f1-b8e6c010658c",
   "metadata": {},
   "source": [
    "## a)"
   ]
  },
  {
   "cell_type": "markdown",
   "id": "80331095-17e2-43f1-b704-0a3d7ed13da8",
   "metadata": {},
   "source": [
    "#https://realpython.com/linear-regression-in-python/\n",
    "# I got my ideas from there plus the notes i took during Muhame's lecture.\n",
    "## The steps involved in fitting a linear regression in Python\n",
    "## 1.Import the libraries and cdata sets that are needed.\n",
    "## 2.Provide data to work with, and eventually do appropriate transformations.\n",
    "## 3.Define Features and Target Variables.\n",
    "## 4.Split the Data \n",
    "## 5.Create a regression model and fit it with existing data.\n",
    "## 6.Check the results of model fitting to know whether the model is satisfactory.\n",
    "## 7.Apply the model for predictions"
   ]
  },
  {
   "cell_type": "markdown",
   "id": "af31616c-1961-40c7-b81b-5d3eda2e4966",
   "metadata": {},
   "source": [
    "## b)"
   ]
  },
  {
   "cell_type": "markdown",
   "id": "92259d90-4e84-4fd9-bff8-8075686c389e",
   "metadata": {},
   "source": [
    "\n",
    "## ASSUMPTIONS OF LINEAR REGRESSION #(got them from Muhame's notebook and my notes i wrote down) \n",
    "## - Linearity\n",
    "## The relationship between the independent variables and the dependent variable should be linear.\n",
    "\n",
    "## - Independence of Errors\n",
    "## The errors should be independent of each other which means there should be no autocorrelation in the data.\n",
    "\n",
    "## -Normality of Residuals\n",
    "## The residuals should follow a normal distribution.\n",
    "\n",
    "## - Homoscedasticity\n",
    "## The variance of residuals should be constant across all levels of the independent variables.\n",
    "    \n",
    "## - Proper Specification of the Model\n",
    "## The model should include all relevant variables and exclude irrelevant ones.\n"
   ]
  },
  {
   "cell_type": "markdown",
   "id": "975f92ae-b81b-4796-a494-8675ef50d8ec",
   "metadata": {},
   "source": [
    "## c)"
   ]
  },
  {
   "cell_type": "code",
   "execution_count": 77,
   "id": "879a5e93-5e87-464b-9095-3af8d9448796",
   "metadata": {},
   "outputs": [],
   "source": [
    "#i have imported the required libraries for data manipulation and modeling in linear regression"
   ]
  },
  {
   "cell_type": "code",
   "execution_count": 78,
   "id": "c14d5733-a6f8-4096-82c4-14c9edb4b2e7",
   "metadata": {},
   "outputs": [],
   "source": [
    "from sklearn.model_selection import train_test_split"
   ]
  },
  {
   "cell_type": "code",
   "execution_count": 79,
   "id": "d6e3dfaf-67b2-4bba-9b8b-18ba627933b5",
   "metadata": {},
   "outputs": [],
   "source": [
    "from sklearn.linear_model import LinearRegression"
   ]
  },
  {
   "cell_type": "code",
   "execution_count": 80,
   "id": "ecfae30f-e32b-471c-a38d-657282fa7e1d",
   "metadata": {},
   "outputs": [],
   "source": [
    "census_df = pd.read_excel(\"Wages 2020Census cleaned.xlsx\")"
   ]
  },
  {
   "cell_type": "code",
   "execution_count": 81,
   "id": "b039098f-9859-4ff4-b4ad-b1c7ef785fa6",
   "metadata": {},
   "outputs": [],
   "source": [
    "#i am Choosing the independent variable(feature) and the dependent variable (target) that i  want to predict\n",
    "X= census_df[['Age']]  #i have chosen age as my independent variable\n",
    "y=census_df['Family_size'] #i have chosen family size as my dependent varible because it can be possible\n",
    "#for your family size to be determined by your age."
   ]
  },
  {
   "cell_type": "code",
   "execution_count": 82,
   "id": "a458cac9-8596-48f6-a485-2306761b47f2",
   "metadata": {},
   "outputs": [],
   "source": [
    "#Divide the dataset into training and testing sets to evaluate the model's performance.\n",
    "X_train, X_test, y_train, y_test = train_test_split(X, y, test_size=0.2, random_state=42)\n"
   ]
  },
  {
   "cell_type": "code",
   "execution_count": 83,
   "id": "487c4c19-0662-4614-bb4f-64f08d4b73f9",
   "metadata": {
    "scrolled": true
   },
   "outputs": [
    {
     "data": {
      "text/html": [
       "<style>#sk-container-id-3 {\n",
       "  /* Definition of color scheme common for light and dark mode */\n",
       "  --sklearn-color-text: black;\n",
       "  --sklearn-color-line: gray;\n",
       "  /* Definition of color scheme for unfitted estimators */\n",
       "  --sklearn-color-unfitted-level-0: #fff5e6;\n",
       "  --sklearn-color-unfitted-level-1: #f6e4d2;\n",
       "  --sklearn-color-unfitted-level-2: #ffe0b3;\n",
       "  --sklearn-color-unfitted-level-3: chocolate;\n",
       "  /* Definition of color scheme for fitted estimators */\n",
       "  --sklearn-color-fitted-level-0: #f0f8ff;\n",
       "  --sklearn-color-fitted-level-1: #d4ebff;\n",
       "  --sklearn-color-fitted-level-2: #b3dbfd;\n",
       "  --sklearn-color-fitted-level-3: cornflowerblue;\n",
       "\n",
       "  /* Specific color for light theme */\n",
       "  --sklearn-color-text-on-default-background: var(--sg-text-color, var(--theme-code-foreground, var(--jp-content-font-color1, black)));\n",
       "  --sklearn-color-background: var(--sg-background-color, var(--theme-background, var(--jp-layout-color0, white)));\n",
       "  --sklearn-color-border-box: var(--sg-text-color, var(--theme-code-foreground, var(--jp-content-font-color1, black)));\n",
       "  --sklearn-color-icon: #696969;\n",
       "\n",
       "  @media (prefers-color-scheme: dark) {\n",
       "    /* Redefinition of color scheme for dark theme */\n",
       "    --sklearn-color-text-on-default-background: var(--sg-text-color, var(--theme-code-foreground, var(--jp-content-font-color1, white)));\n",
       "    --sklearn-color-background: var(--sg-background-color, var(--theme-background, var(--jp-layout-color0, #111)));\n",
       "    --sklearn-color-border-box: var(--sg-text-color, var(--theme-code-foreground, var(--jp-content-font-color1, white)));\n",
       "    --sklearn-color-icon: #878787;\n",
       "  }\n",
       "}\n",
       "\n",
       "#sk-container-id-3 {\n",
       "  color: var(--sklearn-color-text);\n",
       "}\n",
       "\n",
       "#sk-container-id-3 pre {\n",
       "  padding: 0;\n",
       "}\n",
       "\n",
       "#sk-container-id-3 input.sk-hidden--visually {\n",
       "  border: 0;\n",
       "  clip: rect(1px 1px 1px 1px);\n",
       "  clip: rect(1px, 1px, 1px, 1px);\n",
       "  height: 1px;\n",
       "  margin: -1px;\n",
       "  overflow: hidden;\n",
       "  padding: 0;\n",
       "  position: absolute;\n",
       "  width: 1px;\n",
       "}\n",
       "\n",
       "#sk-container-id-3 div.sk-dashed-wrapped {\n",
       "  border: 1px dashed var(--sklearn-color-line);\n",
       "  margin: 0 0.4em 0.5em 0.4em;\n",
       "  box-sizing: border-box;\n",
       "  padding-bottom: 0.4em;\n",
       "  background-color: var(--sklearn-color-background);\n",
       "}\n",
       "\n",
       "#sk-container-id-3 div.sk-container {\n",
       "  /* jupyter's `normalize.less` sets `[hidden] { display: none; }`\n",
       "     but bootstrap.min.css set `[hidden] { display: none !important; }`\n",
       "     so we also need the `!important` here to be able to override the\n",
       "     default hidden behavior on the sphinx rendered scikit-learn.org.\n",
       "     See: https://github.com/scikit-learn/scikit-learn/issues/21755 */\n",
       "  display: inline-block !important;\n",
       "  position: relative;\n",
       "}\n",
       "\n",
       "#sk-container-id-3 div.sk-text-repr-fallback {\n",
       "  display: none;\n",
       "}\n",
       "\n",
       "div.sk-parallel-item,\n",
       "div.sk-serial,\n",
       "div.sk-item {\n",
       "  /* draw centered vertical line to link estimators */\n",
       "  background-image: linear-gradient(var(--sklearn-color-text-on-default-background), var(--sklearn-color-text-on-default-background));\n",
       "  background-size: 2px 100%;\n",
       "  background-repeat: no-repeat;\n",
       "  background-position: center center;\n",
       "}\n",
       "\n",
       "/* Parallel-specific style estimator block */\n",
       "\n",
       "#sk-container-id-3 div.sk-parallel-item::after {\n",
       "  content: \"\";\n",
       "  width: 100%;\n",
       "  border-bottom: 2px solid var(--sklearn-color-text-on-default-background);\n",
       "  flex-grow: 1;\n",
       "}\n",
       "\n",
       "#sk-container-id-3 div.sk-parallel {\n",
       "  display: flex;\n",
       "  align-items: stretch;\n",
       "  justify-content: center;\n",
       "  background-color: var(--sklearn-color-background);\n",
       "  position: relative;\n",
       "}\n",
       "\n",
       "#sk-container-id-3 div.sk-parallel-item {\n",
       "  display: flex;\n",
       "  flex-direction: column;\n",
       "}\n",
       "\n",
       "#sk-container-id-3 div.sk-parallel-item:first-child::after {\n",
       "  align-self: flex-end;\n",
       "  width: 50%;\n",
       "}\n",
       "\n",
       "#sk-container-id-3 div.sk-parallel-item:last-child::after {\n",
       "  align-self: flex-start;\n",
       "  width: 50%;\n",
       "}\n",
       "\n",
       "#sk-container-id-3 div.sk-parallel-item:only-child::after {\n",
       "  width: 0;\n",
       "}\n",
       "\n",
       "/* Serial-specific style estimator block */\n",
       "\n",
       "#sk-container-id-3 div.sk-serial {\n",
       "  display: flex;\n",
       "  flex-direction: column;\n",
       "  align-items: center;\n",
       "  background-color: var(--sklearn-color-background);\n",
       "  padding-right: 1em;\n",
       "  padding-left: 1em;\n",
       "}\n",
       "\n",
       "\n",
       "/* Toggleable style: style used for estimator/Pipeline/ColumnTransformer box that is\n",
       "clickable and can be expanded/collapsed.\n",
       "- Pipeline and ColumnTransformer use this feature and define the default style\n",
       "- Estimators will overwrite some part of the style using the `sk-estimator` class\n",
       "*/\n",
       "\n",
       "/* Pipeline and ColumnTransformer style (default) */\n",
       "\n",
       "#sk-container-id-3 div.sk-toggleable {\n",
       "  /* Default theme specific background. It is overwritten whether we have a\n",
       "  specific estimator or a Pipeline/ColumnTransformer */\n",
       "  background-color: var(--sklearn-color-background);\n",
       "}\n",
       "\n",
       "/* Toggleable label */\n",
       "#sk-container-id-3 label.sk-toggleable__label {\n",
       "  cursor: pointer;\n",
       "  display: block;\n",
       "  width: 100%;\n",
       "  margin-bottom: 0;\n",
       "  padding: 0.5em;\n",
       "  box-sizing: border-box;\n",
       "  text-align: center;\n",
       "}\n",
       "\n",
       "#sk-container-id-3 label.sk-toggleable__label-arrow:before {\n",
       "  /* Arrow on the left of the label */\n",
       "  content: \"▸\";\n",
       "  float: left;\n",
       "  margin-right: 0.25em;\n",
       "  color: var(--sklearn-color-icon);\n",
       "}\n",
       "\n",
       "#sk-container-id-3 label.sk-toggleable__label-arrow:hover:before {\n",
       "  color: var(--sklearn-color-text);\n",
       "}\n",
       "\n",
       "/* Toggleable content - dropdown */\n",
       "\n",
       "#sk-container-id-3 div.sk-toggleable__content {\n",
       "  max-height: 0;\n",
       "  max-width: 0;\n",
       "  overflow: hidden;\n",
       "  text-align: left;\n",
       "  /* unfitted */\n",
       "  background-color: var(--sklearn-color-unfitted-level-0);\n",
       "}\n",
       "\n",
       "#sk-container-id-3 div.sk-toggleable__content.fitted {\n",
       "  /* fitted */\n",
       "  background-color: var(--sklearn-color-fitted-level-0);\n",
       "}\n",
       "\n",
       "#sk-container-id-3 div.sk-toggleable__content pre {\n",
       "  margin: 0.2em;\n",
       "  border-radius: 0.25em;\n",
       "  color: var(--sklearn-color-text);\n",
       "  /* unfitted */\n",
       "  background-color: var(--sklearn-color-unfitted-level-0);\n",
       "}\n",
       "\n",
       "#sk-container-id-3 div.sk-toggleable__content.fitted pre {\n",
       "  /* unfitted */\n",
       "  background-color: var(--sklearn-color-fitted-level-0);\n",
       "}\n",
       "\n",
       "#sk-container-id-3 input.sk-toggleable__control:checked~div.sk-toggleable__content {\n",
       "  /* Expand drop-down */\n",
       "  max-height: 200px;\n",
       "  max-width: 100%;\n",
       "  overflow: auto;\n",
       "}\n",
       "\n",
       "#sk-container-id-3 input.sk-toggleable__control:checked~label.sk-toggleable__label-arrow:before {\n",
       "  content: \"▾\";\n",
       "}\n",
       "\n",
       "/* Pipeline/ColumnTransformer-specific style */\n",
       "\n",
       "#sk-container-id-3 div.sk-label input.sk-toggleable__control:checked~label.sk-toggleable__label {\n",
       "  color: var(--sklearn-color-text);\n",
       "  background-color: var(--sklearn-color-unfitted-level-2);\n",
       "}\n",
       "\n",
       "#sk-container-id-3 div.sk-label.fitted input.sk-toggleable__control:checked~label.sk-toggleable__label {\n",
       "  background-color: var(--sklearn-color-fitted-level-2);\n",
       "}\n",
       "\n",
       "/* Estimator-specific style */\n",
       "\n",
       "/* Colorize estimator box */\n",
       "#sk-container-id-3 div.sk-estimator input.sk-toggleable__control:checked~label.sk-toggleable__label {\n",
       "  /* unfitted */\n",
       "  background-color: var(--sklearn-color-unfitted-level-2);\n",
       "}\n",
       "\n",
       "#sk-container-id-3 div.sk-estimator.fitted input.sk-toggleable__control:checked~label.sk-toggleable__label {\n",
       "  /* fitted */\n",
       "  background-color: var(--sklearn-color-fitted-level-2);\n",
       "}\n",
       "\n",
       "#sk-container-id-3 div.sk-label label.sk-toggleable__label,\n",
       "#sk-container-id-3 div.sk-label label {\n",
       "  /* The background is the default theme color */\n",
       "  color: var(--sklearn-color-text-on-default-background);\n",
       "}\n",
       "\n",
       "/* On hover, darken the color of the background */\n",
       "#sk-container-id-3 div.sk-label:hover label.sk-toggleable__label {\n",
       "  color: var(--sklearn-color-text);\n",
       "  background-color: var(--sklearn-color-unfitted-level-2);\n",
       "}\n",
       "\n",
       "/* Label box, darken color on hover, fitted */\n",
       "#sk-container-id-3 div.sk-label.fitted:hover label.sk-toggleable__label.fitted {\n",
       "  color: var(--sklearn-color-text);\n",
       "  background-color: var(--sklearn-color-fitted-level-2);\n",
       "}\n",
       "\n",
       "/* Estimator label */\n",
       "\n",
       "#sk-container-id-3 div.sk-label label {\n",
       "  font-family: monospace;\n",
       "  font-weight: bold;\n",
       "  display: inline-block;\n",
       "  line-height: 1.2em;\n",
       "}\n",
       "\n",
       "#sk-container-id-3 div.sk-label-container {\n",
       "  text-align: center;\n",
       "}\n",
       "\n",
       "/* Estimator-specific */\n",
       "#sk-container-id-3 div.sk-estimator {\n",
       "  font-family: monospace;\n",
       "  border: 1px dotted var(--sklearn-color-border-box);\n",
       "  border-radius: 0.25em;\n",
       "  box-sizing: border-box;\n",
       "  margin-bottom: 0.5em;\n",
       "  /* unfitted */\n",
       "  background-color: var(--sklearn-color-unfitted-level-0);\n",
       "}\n",
       "\n",
       "#sk-container-id-3 div.sk-estimator.fitted {\n",
       "  /* fitted */\n",
       "  background-color: var(--sklearn-color-fitted-level-0);\n",
       "}\n",
       "\n",
       "/* on hover */\n",
       "#sk-container-id-3 div.sk-estimator:hover {\n",
       "  /* unfitted */\n",
       "  background-color: var(--sklearn-color-unfitted-level-2);\n",
       "}\n",
       "\n",
       "#sk-container-id-3 div.sk-estimator.fitted:hover {\n",
       "  /* fitted */\n",
       "  background-color: var(--sklearn-color-fitted-level-2);\n",
       "}\n",
       "\n",
       "/* Specification for estimator info (e.g. \"i\" and \"?\") */\n",
       "\n",
       "/* Common style for \"i\" and \"?\" */\n",
       "\n",
       ".sk-estimator-doc-link,\n",
       "a:link.sk-estimator-doc-link,\n",
       "a:visited.sk-estimator-doc-link {\n",
       "  float: right;\n",
       "  font-size: smaller;\n",
       "  line-height: 1em;\n",
       "  font-family: monospace;\n",
       "  background-color: var(--sklearn-color-background);\n",
       "  border-radius: 1em;\n",
       "  height: 1em;\n",
       "  width: 1em;\n",
       "  text-decoration: none !important;\n",
       "  margin-left: 1ex;\n",
       "  /* unfitted */\n",
       "  border: var(--sklearn-color-unfitted-level-1) 1pt solid;\n",
       "  color: var(--sklearn-color-unfitted-level-1);\n",
       "}\n",
       "\n",
       ".sk-estimator-doc-link.fitted,\n",
       "a:link.sk-estimator-doc-link.fitted,\n",
       "a:visited.sk-estimator-doc-link.fitted {\n",
       "  /* fitted */\n",
       "  border: var(--sklearn-color-fitted-level-1) 1pt solid;\n",
       "  color: var(--sklearn-color-fitted-level-1);\n",
       "}\n",
       "\n",
       "/* On hover */\n",
       "div.sk-estimator:hover .sk-estimator-doc-link:hover,\n",
       ".sk-estimator-doc-link:hover,\n",
       "div.sk-label-container:hover .sk-estimator-doc-link:hover,\n",
       ".sk-estimator-doc-link:hover {\n",
       "  /* unfitted */\n",
       "  background-color: var(--sklearn-color-unfitted-level-3);\n",
       "  color: var(--sklearn-color-background);\n",
       "  text-decoration: none;\n",
       "}\n",
       "\n",
       "div.sk-estimator.fitted:hover .sk-estimator-doc-link.fitted:hover,\n",
       ".sk-estimator-doc-link.fitted:hover,\n",
       "div.sk-label-container:hover .sk-estimator-doc-link.fitted:hover,\n",
       ".sk-estimator-doc-link.fitted:hover {\n",
       "  /* fitted */\n",
       "  background-color: var(--sklearn-color-fitted-level-3);\n",
       "  color: var(--sklearn-color-background);\n",
       "  text-decoration: none;\n",
       "}\n",
       "\n",
       "/* Span, style for the box shown on hovering the info icon */\n",
       ".sk-estimator-doc-link span {\n",
       "  display: none;\n",
       "  z-index: 9999;\n",
       "  position: relative;\n",
       "  font-weight: normal;\n",
       "  right: .2ex;\n",
       "  padding: .5ex;\n",
       "  margin: .5ex;\n",
       "  width: min-content;\n",
       "  min-width: 20ex;\n",
       "  max-width: 50ex;\n",
       "  color: var(--sklearn-color-text);\n",
       "  box-shadow: 2pt 2pt 4pt #999;\n",
       "  /* unfitted */\n",
       "  background: var(--sklearn-color-unfitted-level-0);\n",
       "  border: .5pt solid var(--sklearn-color-unfitted-level-3);\n",
       "}\n",
       "\n",
       ".sk-estimator-doc-link.fitted span {\n",
       "  /* fitted */\n",
       "  background: var(--sklearn-color-fitted-level-0);\n",
       "  border: var(--sklearn-color-fitted-level-3);\n",
       "}\n",
       "\n",
       ".sk-estimator-doc-link:hover span {\n",
       "  display: block;\n",
       "}\n",
       "\n",
       "/* \"?\"-specific style due to the `<a>` HTML tag */\n",
       "\n",
       "#sk-container-id-3 a.estimator_doc_link {\n",
       "  float: right;\n",
       "  font-size: 1rem;\n",
       "  line-height: 1em;\n",
       "  font-family: monospace;\n",
       "  background-color: var(--sklearn-color-background);\n",
       "  border-radius: 1rem;\n",
       "  height: 1rem;\n",
       "  width: 1rem;\n",
       "  text-decoration: none;\n",
       "  /* unfitted */\n",
       "  color: var(--sklearn-color-unfitted-level-1);\n",
       "  border: var(--sklearn-color-unfitted-level-1) 1pt solid;\n",
       "}\n",
       "\n",
       "#sk-container-id-3 a.estimator_doc_link.fitted {\n",
       "  /* fitted */\n",
       "  border: var(--sklearn-color-fitted-level-1) 1pt solid;\n",
       "  color: var(--sklearn-color-fitted-level-1);\n",
       "}\n",
       "\n",
       "/* On hover */\n",
       "#sk-container-id-3 a.estimator_doc_link:hover {\n",
       "  /* unfitted */\n",
       "  background-color: var(--sklearn-color-unfitted-level-3);\n",
       "  color: var(--sklearn-color-background);\n",
       "  text-decoration: none;\n",
       "}\n",
       "\n",
       "#sk-container-id-3 a.estimator_doc_link.fitted:hover {\n",
       "  /* fitted */\n",
       "  background-color: var(--sklearn-color-fitted-level-3);\n",
       "}\n",
       "</style><div id=\"sk-container-id-3\" class=\"sk-top-container\"><div class=\"sk-text-repr-fallback\"><pre>LinearRegression()</pre><b>In a Jupyter environment, please rerun this cell to show the HTML representation or trust the notebook. <br />On GitHub, the HTML representation is unable to render, please try loading this page with nbviewer.org.</b></div><div class=\"sk-container\" hidden><div class=\"sk-item\"><div class=\"sk-estimator  sk-toggleable\"><input class=\"sk-toggleable__control sk-hidden--visually\" id=\"sk-estimator-id-3\" type=\"checkbox\" checked><label for=\"sk-estimator-id-3\" class=\"sk-toggleable__label  sk-toggleable__label-arrow \">&nbsp;&nbsp;LinearRegression<a class=\"sk-estimator-doc-link \" rel=\"noreferrer\" target=\"_blank\" href=\"https://scikit-learn.org/1.5/modules/generated/sklearn.linear_model.LinearRegression.html\">?<span>Documentation for LinearRegression</span></a><span class=\"sk-estimator-doc-link \">i<span>Not fitted</span></span></label><div class=\"sk-toggleable__content \"><pre>LinearRegression()</pre></div> </div></div></div></div>"
      ],
      "text/plain": [
       "LinearRegression()"
      ]
     },
     "execution_count": 83,
     "metadata": {},
     "output_type": "execute_result"
    }
   ],
   "source": [
    "#Instantiate the linear regression model and fit it to the training data.\n",
    "model = LinearRegression()\n",
    "model"
   ]
  },
  {
   "cell_type": "code",
   "execution_count": 84,
   "id": "47027fba-d6dc-423c-a79f-4d1d8c5d728b",
   "metadata": {},
   "outputs": [
    {
     "data": {
      "text/html": [
       "<style>#sk-container-id-4 {\n",
       "  /* Definition of color scheme common for light and dark mode */\n",
       "  --sklearn-color-text: black;\n",
       "  --sklearn-color-line: gray;\n",
       "  /* Definition of color scheme for unfitted estimators */\n",
       "  --sklearn-color-unfitted-level-0: #fff5e6;\n",
       "  --sklearn-color-unfitted-level-1: #f6e4d2;\n",
       "  --sklearn-color-unfitted-level-2: #ffe0b3;\n",
       "  --sklearn-color-unfitted-level-3: chocolate;\n",
       "  /* Definition of color scheme for fitted estimators */\n",
       "  --sklearn-color-fitted-level-0: #f0f8ff;\n",
       "  --sklearn-color-fitted-level-1: #d4ebff;\n",
       "  --sklearn-color-fitted-level-2: #b3dbfd;\n",
       "  --sklearn-color-fitted-level-3: cornflowerblue;\n",
       "\n",
       "  /* Specific color for light theme */\n",
       "  --sklearn-color-text-on-default-background: var(--sg-text-color, var(--theme-code-foreground, var(--jp-content-font-color1, black)));\n",
       "  --sklearn-color-background: var(--sg-background-color, var(--theme-background, var(--jp-layout-color0, white)));\n",
       "  --sklearn-color-border-box: var(--sg-text-color, var(--theme-code-foreground, var(--jp-content-font-color1, black)));\n",
       "  --sklearn-color-icon: #696969;\n",
       "\n",
       "  @media (prefers-color-scheme: dark) {\n",
       "    /* Redefinition of color scheme for dark theme */\n",
       "    --sklearn-color-text-on-default-background: var(--sg-text-color, var(--theme-code-foreground, var(--jp-content-font-color1, white)));\n",
       "    --sklearn-color-background: var(--sg-background-color, var(--theme-background, var(--jp-layout-color0, #111)));\n",
       "    --sklearn-color-border-box: var(--sg-text-color, var(--theme-code-foreground, var(--jp-content-font-color1, white)));\n",
       "    --sklearn-color-icon: #878787;\n",
       "  }\n",
       "}\n",
       "\n",
       "#sk-container-id-4 {\n",
       "  color: var(--sklearn-color-text);\n",
       "}\n",
       "\n",
       "#sk-container-id-4 pre {\n",
       "  padding: 0;\n",
       "}\n",
       "\n",
       "#sk-container-id-4 input.sk-hidden--visually {\n",
       "  border: 0;\n",
       "  clip: rect(1px 1px 1px 1px);\n",
       "  clip: rect(1px, 1px, 1px, 1px);\n",
       "  height: 1px;\n",
       "  margin: -1px;\n",
       "  overflow: hidden;\n",
       "  padding: 0;\n",
       "  position: absolute;\n",
       "  width: 1px;\n",
       "}\n",
       "\n",
       "#sk-container-id-4 div.sk-dashed-wrapped {\n",
       "  border: 1px dashed var(--sklearn-color-line);\n",
       "  margin: 0 0.4em 0.5em 0.4em;\n",
       "  box-sizing: border-box;\n",
       "  padding-bottom: 0.4em;\n",
       "  background-color: var(--sklearn-color-background);\n",
       "}\n",
       "\n",
       "#sk-container-id-4 div.sk-container {\n",
       "  /* jupyter's `normalize.less` sets `[hidden] { display: none; }`\n",
       "     but bootstrap.min.css set `[hidden] { display: none !important; }`\n",
       "     so we also need the `!important` here to be able to override the\n",
       "     default hidden behavior on the sphinx rendered scikit-learn.org.\n",
       "     See: https://github.com/scikit-learn/scikit-learn/issues/21755 */\n",
       "  display: inline-block !important;\n",
       "  position: relative;\n",
       "}\n",
       "\n",
       "#sk-container-id-4 div.sk-text-repr-fallback {\n",
       "  display: none;\n",
       "}\n",
       "\n",
       "div.sk-parallel-item,\n",
       "div.sk-serial,\n",
       "div.sk-item {\n",
       "  /* draw centered vertical line to link estimators */\n",
       "  background-image: linear-gradient(var(--sklearn-color-text-on-default-background), var(--sklearn-color-text-on-default-background));\n",
       "  background-size: 2px 100%;\n",
       "  background-repeat: no-repeat;\n",
       "  background-position: center center;\n",
       "}\n",
       "\n",
       "/* Parallel-specific style estimator block */\n",
       "\n",
       "#sk-container-id-4 div.sk-parallel-item::after {\n",
       "  content: \"\";\n",
       "  width: 100%;\n",
       "  border-bottom: 2px solid var(--sklearn-color-text-on-default-background);\n",
       "  flex-grow: 1;\n",
       "}\n",
       "\n",
       "#sk-container-id-4 div.sk-parallel {\n",
       "  display: flex;\n",
       "  align-items: stretch;\n",
       "  justify-content: center;\n",
       "  background-color: var(--sklearn-color-background);\n",
       "  position: relative;\n",
       "}\n",
       "\n",
       "#sk-container-id-4 div.sk-parallel-item {\n",
       "  display: flex;\n",
       "  flex-direction: column;\n",
       "}\n",
       "\n",
       "#sk-container-id-4 div.sk-parallel-item:first-child::after {\n",
       "  align-self: flex-end;\n",
       "  width: 50%;\n",
       "}\n",
       "\n",
       "#sk-container-id-4 div.sk-parallel-item:last-child::after {\n",
       "  align-self: flex-start;\n",
       "  width: 50%;\n",
       "}\n",
       "\n",
       "#sk-container-id-4 div.sk-parallel-item:only-child::after {\n",
       "  width: 0;\n",
       "}\n",
       "\n",
       "/* Serial-specific style estimator block */\n",
       "\n",
       "#sk-container-id-4 div.sk-serial {\n",
       "  display: flex;\n",
       "  flex-direction: column;\n",
       "  align-items: center;\n",
       "  background-color: var(--sklearn-color-background);\n",
       "  padding-right: 1em;\n",
       "  padding-left: 1em;\n",
       "}\n",
       "\n",
       "\n",
       "/* Toggleable style: style used for estimator/Pipeline/ColumnTransformer box that is\n",
       "clickable and can be expanded/collapsed.\n",
       "- Pipeline and ColumnTransformer use this feature and define the default style\n",
       "- Estimators will overwrite some part of the style using the `sk-estimator` class\n",
       "*/\n",
       "\n",
       "/* Pipeline and ColumnTransformer style (default) */\n",
       "\n",
       "#sk-container-id-4 div.sk-toggleable {\n",
       "  /* Default theme specific background. It is overwritten whether we have a\n",
       "  specific estimator or a Pipeline/ColumnTransformer */\n",
       "  background-color: var(--sklearn-color-background);\n",
       "}\n",
       "\n",
       "/* Toggleable label */\n",
       "#sk-container-id-4 label.sk-toggleable__label {\n",
       "  cursor: pointer;\n",
       "  display: block;\n",
       "  width: 100%;\n",
       "  margin-bottom: 0;\n",
       "  padding: 0.5em;\n",
       "  box-sizing: border-box;\n",
       "  text-align: center;\n",
       "}\n",
       "\n",
       "#sk-container-id-4 label.sk-toggleable__label-arrow:before {\n",
       "  /* Arrow on the left of the label */\n",
       "  content: \"▸\";\n",
       "  float: left;\n",
       "  margin-right: 0.25em;\n",
       "  color: var(--sklearn-color-icon);\n",
       "}\n",
       "\n",
       "#sk-container-id-4 label.sk-toggleable__label-arrow:hover:before {\n",
       "  color: var(--sklearn-color-text);\n",
       "}\n",
       "\n",
       "/* Toggleable content - dropdown */\n",
       "\n",
       "#sk-container-id-4 div.sk-toggleable__content {\n",
       "  max-height: 0;\n",
       "  max-width: 0;\n",
       "  overflow: hidden;\n",
       "  text-align: left;\n",
       "  /* unfitted */\n",
       "  background-color: var(--sklearn-color-unfitted-level-0);\n",
       "}\n",
       "\n",
       "#sk-container-id-4 div.sk-toggleable__content.fitted {\n",
       "  /* fitted */\n",
       "  background-color: var(--sklearn-color-fitted-level-0);\n",
       "}\n",
       "\n",
       "#sk-container-id-4 div.sk-toggleable__content pre {\n",
       "  margin: 0.2em;\n",
       "  border-radius: 0.25em;\n",
       "  color: var(--sklearn-color-text);\n",
       "  /* unfitted */\n",
       "  background-color: var(--sklearn-color-unfitted-level-0);\n",
       "}\n",
       "\n",
       "#sk-container-id-4 div.sk-toggleable__content.fitted pre {\n",
       "  /* unfitted */\n",
       "  background-color: var(--sklearn-color-fitted-level-0);\n",
       "}\n",
       "\n",
       "#sk-container-id-4 input.sk-toggleable__control:checked~div.sk-toggleable__content {\n",
       "  /* Expand drop-down */\n",
       "  max-height: 200px;\n",
       "  max-width: 100%;\n",
       "  overflow: auto;\n",
       "}\n",
       "\n",
       "#sk-container-id-4 input.sk-toggleable__control:checked~label.sk-toggleable__label-arrow:before {\n",
       "  content: \"▾\";\n",
       "}\n",
       "\n",
       "/* Pipeline/ColumnTransformer-specific style */\n",
       "\n",
       "#sk-container-id-4 div.sk-label input.sk-toggleable__control:checked~label.sk-toggleable__label {\n",
       "  color: var(--sklearn-color-text);\n",
       "  background-color: var(--sklearn-color-unfitted-level-2);\n",
       "}\n",
       "\n",
       "#sk-container-id-4 div.sk-label.fitted input.sk-toggleable__control:checked~label.sk-toggleable__label {\n",
       "  background-color: var(--sklearn-color-fitted-level-2);\n",
       "}\n",
       "\n",
       "/* Estimator-specific style */\n",
       "\n",
       "/* Colorize estimator box */\n",
       "#sk-container-id-4 div.sk-estimator input.sk-toggleable__control:checked~label.sk-toggleable__label {\n",
       "  /* unfitted */\n",
       "  background-color: var(--sklearn-color-unfitted-level-2);\n",
       "}\n",
       "\n",
       "#sk-container-id-4 div.sk-estimator.fitted input.sk-toggleable__control:checked~label.sk-toggleable__label {\n",
       "  /* fitted */\n",
       "  background-color: var(--sklearn-color-fitted-level-2);\n",
       "}\n",
       "\n",
       "#sk-container-id-4 div.sk-label label.sk-toggleable__label,\n",
       "#sk-container-id-4 div.sk-label label {\n",
       "  /* The background is the default theme color */\n",
       "  color: var(--sklearn-color-text-on-default-background);\n",
       "}\n",
       "\n",
       "/* On hover, darken the color of the background */\n",
       "#sk-container-id-4 div.sk-label:hover label.sk-toggleable__label {\n",
       "  color: var(--sklearn-color-text);\n",
       "  background-color: var(--sklearn-color-unfitted-level-2);\n",
       "}\n",
       "\n",
       "/* Label box, darken color on hover, fitted */\n",
       "#sk-container-id-4 div.sk-label.fitted:hover label.sk-toggleable__label.fitted {\n",
       "  color: var(--sklearn-color-text);\n",
       "  background-color: var(--sklearn-color-fitted-level-2);\n",
       "}\n",
       "\n",
       "/* Estimator label */\n",
       "\n",
       "#sk-container-id-4 div.sk-label label {\n",
       "  font-family: monospace;\n",
       "  font-weight: bold;\n",
       "  display: inline-block;\n",
       "  line-height: 1.2em;\n",
       "}\n",
       "\n",
       "#sk-container-id-4 div.sk-label-container {\n",
       "  text-align: center;\n",
       "}\n",
       "\n",
       "/* Estimator-specific */\n",
       "#sk-container-id-4 div.sk-estimator {\n",
       "  font-family: monospace;\n",
       "  border: 1px dotted var(--sklearn-color-border-box);\n",
       "  border-radius: 0.25em;\n",
       "  box-sizing: border-box;\n",
       "  margin-bottom: 0.5em;\n",
       "  /* unfitted */\n",
       "  background-color: var(--sklearn-color-unfitted-level-0);\n",
       "}\n",
       "\n",
       "#sk-container-id-4 div.sk-estimator.fitted {\n",
       "  /* fitted */\n",
       "  background-color: var(--sklearn-color-fitted-level-0);\n",
       "}\n",
       "\n",
       "/* on hover */\n",
       "#sk-container-id-4 div.sk-estimator:hover {\n",
       "  /* unfitted */\n",
       "  background-color: var(--sklearn-color-unfitted-level-2);\n",
       "}\n",
       "\n",
       "#sk-container-id-4 div.sk-estimator.fitted:hover {\n",
       "  /* fitted */\n",
       "  background-color: var(--sklearn-color-fitted-level-2);\n",
       "}\n",
       "\n",
       "/* Specification for estimator info (e.g. \"i\" and \"?\") */\n",
       "\n",
       "/* Common style for \"i\" and \"?\" */\n",
       "\n",
       ".sk-estimator-doc-link,\n",
       "a:link.sk-estimator-doc-link,\n",
       "a:visited.sk-estimator-doc-link {\n",
       "  float: right;\n",
       "  font-size: smaller;\n",
       "  line-height: 1em;\n",
       "  font-family: monospace;\n",
       "  background-color: var(--sklearn-color-background);\n",
       "  border-radius: 1em;\n",
       "  height: 1em;\n",
       "  width: 1em;\n",
       "  text-decoration: none !important;\n",
       "  margin-left: 1ex;\n",
       "  /* unfitted */\n",
       "  border: var(--sklearn-color-unfitted-level-1) 1pt solid;\n",
       "  color: var(--sklearn-color-unfitted-level-1);\n",
       "}\n",
       "\n",
       ".sk-estimator-doc-link.fitted,\n",
       "a:link.sk-estimator-doc-link.fitted,\n",
       "a:visited.sk-estimator-doc-link.fitted {\n",
       "  /* fitted */\n",
       "  border: var(--sklearn-color-fitted-level-1) 1pt solid;\n",
       "  color: var(--sklearn-color-fitted-level-1);\n",
       "}\n",
       "\n",
       "/* On hover */\n",
       "div.sk-estimator:hover .sk-estimator-doc-link:hover,\n",
       ".sk-estimator-doc-link:hover,\n",
       "div.sk-label-container:hover .sk-estimator-doc-link:hover,\n",
       ".sk-estimator-doc-link:hover {\n",
       "  /* unfitted */\n",
       "  background-color: var(--sklearn-color-unfitted-level-3);\n",
       "  color: var(--sklearn-color-background);\n",
       "  text-decoration: none;\n",
       "}\n",
       "\n",
       "div.sk-estimator.fitted:hover .sk-estimator-doc-link.fitted:hover,\n",
       ".sk-estimator-doc-link.fitted:hover,\n",
       "div.sk-label-container:hover .sk-estimator-doc-link.fitted:hover,\n",
       ".sk-estimator-doc-link.fitted:hover {\n",
       "  /* fitted */\n",
       "  background-color: var(--sklearn-color-fitted-level-3);\n",
       "  color: var(--sklearn-color-background);\n",
       "  text-decoration: none;\n",
       "}\n",
       "\n",
       "/* Span, style for the box shown on hovering the info icon */\n",
       ".sk-estimator-doc-link span {\n",
       "  display: none;\n",
       "  z-index: 9999;\n",
       "  position: relative;\n",
       "  font-weight: normal;\n",
       "  right: .2ex;\n",
       "  padding: .5ex;\n",
       "  margin: .5ex;\n",
       "  width: min-content;\n",
       "  min-width: 20ex;\n",
       "  max-width: 50ex;\n",
       "  color: var(--sklearn-color-text);\n",
       "  box-shadow: 2pt 2pt 4pt #999;\n",
       "  /* unfitted */\n",
       "  background: var(--sklearn-color-unfitted-level-0);\n",
       "  border: .5pt solid var(--sklearn-color-unfitted-level-3);\n",
       "}\n",
       "\n",
       ".sk-estimator-doc-link.fitted span {\n",
       "  /* fitted */\n",
       "  background: var(--sklearn-color-fitted-level-0);\n",
       "  border: var(--sklearn-color-fitted-level-3);\n",
       "}\n",
       "\n",
       ".sk-estimator-doc-link:hover span {\n",
       "  display: block;\n",
       "}\n",
       "\n",
       "/* \"?\"-specific style due to the `<a>` HTML tag */\n",
       "\n",
       "#sk-container-id-4 a.estimator_doc_link {\n",
       "  float: right;\n",
       "  font-size: 1rem;\n",
       "  line-height: 1em;\n",
       "  font-family: monospace;\n",
       "  background-color: var(--sklearn-color-background);\n",
       "  border-radius: 1rem;\n",
       "  height: 1rem;\n",
       "  width: 1rem;\n",
       "  text-decoration: none;\n",
       "  /* unfitted */\n",
       "  color: var(--sklearn-color-unfitted-level-1);\n",
       "  border: var(--sklearn-color-unfitted-level-1) 1pt solid;\n",
       "}\n",
       "\n",
       "#sk-container-id-4 a.estimator_doc_link.fitted {\n",
       "  /* fitted */\n",
       "  border: var(--sklearn-color-fitted-level-1) 1pt solid;\n",
       "  color: var(--sklearn-color-fitted-level-1);\n",
       "}\n",
       "\n",
       "/* On hover */\n",
       "#sk-container-id-4 a.estimator_doc_link:hover {\n",
       "  /* unfitted */\n",
       "  background-color: var(--sklearn-color-unfitted-level-3);\n",
       "  color: var(--sklearn-color-background);\n",
       "  text-decoration: none;\n",
       "}\n",
       "\n",
       "#sk-container-id-4 a.estimator_doc_link.fitted:hover {\n",
       "  /* fitted */\n",
       "  background-color: var(--sklearn-color-fitted-level-3);\n",
       "}\n",
       "</style><div id=\"sk-container-id-4\" class=\"sk-top-container\"><div class=\"sk-text-repr-fallback\"><pre>LinearRegression()</pre><b>In a Jupyter environment, please rerun this cell to show the HTML representation or trust the notebook. <br />On GitHub, the HTML representation is unable to render, please try loading this page with nbviewer.org.</b></div><div class=\"sk-container\" hidden><div class=\"sk-item\"><div class=\"sk-estimator fitted sk-toggleable\"><input class=\"sk-toggleable__control sk-hidden--visually\" id=\"sk-estimator-id-4\" type=\"checkbox\" checked><label for=\"sk-estimator-id-4\" class=\"sk-toggleable__label fitted sk-toggleable__label-arrow fitted\">&nbsp;&nbsp;LinearRegression<a class=\"sk-estimator-doc-link fitted\" rel=\"noreferrer\" target=\"_blank\" href=\"https://scikit-learn.org/1.5/modules/generated/sklearn.linear_model.LinearRegression.html\">?<span>Documentation for LinearRegression</span></a><span class=\"sk-estimator-doc-link fitted\">i<span>Fitted</span></span></label><div class=\"sk-toggleable__content fitted\"><pre>LinearRegression()</pre></div> </div></div></div></div>"
      ],
      "text/plain": [
       "LinearRegression()"
      ]
     },
     "execution_count": 84,
     "metadata": {},
     "output_type": "execute_result"
    }
   ],
   "source": [
    "model.fit(X_train, y_train)\n",
    "#got the idea from Muhame's notebook univariate_linear_regression.ipynb"
   ]
  },
  {
   "cell_type": "code",
   "execution_count": 85,
   "id": "418f97ee-7366-4a72-afeb-fad4c24e8519",
   "metadata": {},
   "outputs": [
    {
     "name": "stdout",
     "output_type": "stream",
     "text": [
      "Intercept: 3.8310316304297145\n"
     ]
    }
   ],
   "source": [
    "intercept = model.intercept_\n",
    "print(f\"Intercept: {intercept}\")"
   ]
  },
  {
   "cell_type": "code",
   "execution_count": 86,
   "id": "50c97b4b-77c8-438f-8ebb-b5e02198ceae",
   "metadata": {},
   "outputs": [
    {
     "name": "stdout",
     "output_type": "stream",
     "text": [
      "Coefficient: -0.02002242467237559\n"
     ]
    }
   ],
   "source": [
    "coefficient = model.coef_[0]\n",
    "print(f\"Coefficient: {coefficient}\")"
   ]
  },
  {
   "cell_type": "code",
   "execution_count": 87,
   "id": "bd4b286e-e737-4e14-a0eb-b517533eb4c9",
   "metadata": {},
   "outputs": [
    {
     "name": "stdout",
     "output_type": "stream",
     "text": [
      "The equation of the linear regression model is: y = 3.8310316304297145 + -0.02002242467237559 * Age\n"
     ]
    }
   ],
   "source": [
    "#i am displaying the equation of the linear regression model.\n",
    "print(f'The equation of the linear regression model is: y = {intercept} + {coefficient} * Age')\n"
   ]
  },
  {
   "cell_type": "markdown",
   "id": "f7b4303c-8dc3-49bf-b61d-91d737f9675f",
   "metadata": {},
   "source": [
    "## d)"
   ]
  },
  {
   "cell_type": "code",
   "execution_count": 88,
   "id": "3f9b0050-0b9f-4b1a-bd44-f2917f44b04b",
   "metadata": {},
   "outputs": [],
   "source": [
    "from sklearn.metrics import mean_absolute_error\n",
    "# mean absolute error tells us how much our predictions are off from the actual values in the dataset."
   ]
  },
  {
   "cell_type": "code",
   "execution_count": 89,
   "id": "16f7a4ac-96c7-4111-9b78-b46464a6cc8f",
   "metadata": {},
   "outputs": [
    {
     "data": {
      "text/plain": [
       "array([3.35049344, 2.68975342, 2.99008979, 3.33047101, 3.03013464,\n",
       "       2.52957403, 3.09020192, 2.99008979, 3.49065041, 2.68975342,\n",
       "       2.80988797, 3.13024677, 2.72979827, 2.86995525, 2.86995525,\n",
       "       2.78986555, 2.7498207 , 2.97006737, 3.27040374, 2.86995525,\n",
       "       3.31044859, 2.86995525, 3.21033647, 2.88997767, 3.43058314,\n",
       "       3.21033647, 3.29042616, 2.76984312, 2.9100001 , 3.17029162,\n",
       "       3.19031404, 3.03013464, 2.70977585, 3.35049344, 3.33047101,\n",
       "       3.09020192, 3.07017949, 3.21033647, 2.99008979, 2.88997767,\n",
       "       3.37051586, 2.86995525, 2.669731  , 2.76984312, 2.62968615,\n",
       "       3.27040374, 2.99008979, 3.13024677, 3.33047101, 3.31044859,\n",
       "       2.88997767, 3.13024677, 3.21033647, 3.09020192, 3.11022434,\n",
       "       3.45060556, 2.68975342, 3.29042616, 2.93002252, 2.70977585,\n",
       "       3.21033647, 2.99008979, 3.07017949, 3.41056071, 2.38941705,\n",
       "       2.9100001 , 2.7498207 , 2.669731  , 2.9100001 , 2.64970857,\n",
       "       3.43058314, 3.07017949, 3.09020192, 3.13024677, 3.31044859,\n",
       "       2.5095516 , 2.68975342, 2.38941705, 3.27040374, 3.07017949,\n",
       "       3.25038131, 2.8299104 , 2.95004494, 3.49065041, 2.84993282,\n",
       "       2.5095516 , 3.05015707, 2.4294619 , 2.70977585, 3.43058314,\n",
       "       2.669731  , 3.43058314, 2.56961888, 3.31044859, 3.33047101,\n",
       "       3.45060556, 3.09020192, 3.37051586, 2.669731  , 3.05015707,\n",
       "       2.76984312, 3.47062799, 2.95004494, 3.09020192, 2.5896413 ,\n",
       "       2.8299104 , 3.21033647, 3.27040374, 2.68975342, 2.8299104 ,\n",
       "       2.56961888, 2.7498207 , 2.669731  , 3.15026919, 2.62968615,\n",
       "       3.33047101, 3.37051586, 3.19031404, 2.5896413 , 3.03013464,\n",
       "       2.72979827, 2.9100001 , 2.88997767, 3.21033647, 2.52957403,\n",
       "       2.60966373, 2.76984312, 3.27040374, 2.72979827, 3.29042616,\n",
       "       2.5896413 , 3.13024677, 2.70977585, 3.41056071, 3.07017949,\n",
       "       3.09020192, 3.15026919, 3.15026919, 2.93002252, 2.62968615,\n",
       "       2.28930493, 2.48952918, 3.17029162, 3.47062799, 3.31044859,\n",
       "       3.49065041, 3.17029162, 3.31044859, 2.4294619 , 2.4294619 ,\n",
       "       2.46950675, 2.8299104 , 3.11022434, 3.23035889, 2.72979827,\n",
       "       2.5896413 , 3.29042616, 2.97006737, 2.9100001 , 3.13024677,\n",
       "       3.07017949, 3.35049344, 3.19031404, 3.03013464, 2.9100001 ,\n",
       "       2.52957403, 3.35049344, 2.88997767, 3.19031404, 2.72979827,\n",
       "       3.05015707, 3.01011222, 2.5896413 , 3.33047101, 3.23035889,\n",
       "       3.33047101, 2.76984312, 3.25038131, 3.01011222, 2.8299104 ,\n",
       "       3.31044859, 3.39053829, 2.76984312, 3.13024677, 3.21033647,\n",
       "       3.01011222, 3.01011222, 3.25038131, 3.15026919, 2.52957403,\n",
       "       2.30932736, 2.97006737, 3.39053829, 3.45060556, 2.99008979,\n",
       "       3.49065041, 2.86995525, 2.5896413 , 2.88997767, 3.19031404,\n",
       "       3.13024677, 2.54959645, 2.84993282, 3.33047101, 2.88997767,\n",
       "       2.95004494, 2.86995525, 2.80988797, 2.70977585, 3.19031404,\n",
       "       2.8299104 , 3.01011222, 2.8299104 , 3.13024677, 2.68975342,\n",
       "       3.23035889, 2.72979827, 3.19031404, 2.95004494, 2.78986555,\n",
       "       2.5095516 , 2.86995525, 3.23035889, 2.68975342, 3.15026919,\n",
       "       3.41056071, 2.7498207 , 3.33047101, 2.95004494, 2.48952918,\n",
       "       3.29042616, 2.9100001 , 3.17029162, 3.31044859, 3.23035889,\n",
       "       3.13024677, 2.88997767, 3.23035889, 3.11022434, 3.27040374,\n",
       "       3.29042616, 2.60966373, 2.95004494, 2.8299104 , 3.13024677,\n",
       "       3.27040374, 3.29042616, 3.01011222, 3.07017949, 3.29042616,\n",
       "       3.23035889, 2.9100001 , 2.669731  , 2.72979827, 3.01011222,\n",
       "       2.84993282, 3.31044859, 2.76984312, 3.35049344, 3.23035889,\n",
       "       2.8299104 , 2.72979827, 2.20921523, 3.01011222, 3.27040374,\n",
       "       3.23035889, 2.88997767, 3.25038131, 3.35049344, 2.7498207 ,\n",
       "       2.97006737, 3.17029162, 3.07017949, 2.97006737, 3.01011222,\n",
       "       2.5896413 , 3.23035889, 3.23035889, 3.07017949, 3.43058314,\n",
       "       2.7498207 , 3.31044859, 2.669731  , 3.29042616, 3.19031404,\n",
       "       3.27040374, 2.76984312, 2.22923766, 2.669731  , 2.5896413 ,\n",
       "       3.27040374, 2.56961888, 3.23035889, 3.03013464, 2.5095516 ,\n",
       "       3.15026919, 3.25038131, 3.31044859, 2.95004494, 2.88997767,\n",
       "       2.84993282, 2.54959645, 2.88997767, 3.43058314, 2.80988797,\n",
       "       2.9100001 , 2.70977585, 3.41056071, 3.01011222, 3.31044859,\n",
       "       3.37051586, 3.43058314, 2.76984312, 2.64970857, 3.03013464,\n",
       "       3.15026919, 2.88997767, 2.7498207 , 3.39053829, 3.19031404,\n",
       "       3.25038131, 3.07017949, 3.33047101, 3.35049344, 3.41056071,\n",
       "       2.62968615, 2.60966373, 3.21033647, 3.41056071, 3.35049344,\n",
       "       2.62968615, 2.93002252, 2.5896413 , 3.21033647, 3.09020192,\n",
       "       3.09020192, 2.95004494, 3.31044859, 2.84993282, 3.27040374,\n",
       "       3.11022434, 3.13024677, 3.09020192, 3.13024677, 2.38941705,\n",
       "       3.23035889, 2.99008979, 3.15026919, 2.95004494, 2.97006737,\n",
       "       2.52957403, 2.99008979, 3.35049344, 2.86995525, 3.05015707,\n",
       "       3.13024677, 2.68975342, 2.9100001 , 3.39053829, 2.97006737,\n",
       "       2.78986555, 3.39053829, 2.95004494, 2.78986555, 3.45060556,\n",
       "       3.19031404, 2.56961888, 3.37051586, 3.15026919, 3.35049344,\n",
       "       3.27040374, 3.05015707, 2.70977585, 2.60966373, 3.35049344,\n",
       "       2.99008979, 2.9100001 , 3.01011222, 3.25038131, 3.13024677,\n",
       "       3.31044859, 2.8299104 , 2.97006737, 3.27040374, 2.84993282,\n",
       "       2.88997767, 2.72979827, 3.05015707, 2.56961888, 3.09020192,\n",
       "       2.8299104 , 3.11022434, 2.7498207 , 2.62968615, 3.27040374,\n",
       "       3.23035889, 2.9100001 , 3.11022434, 3.23035889, 3.21033647,\n",
       "       3.05015707, 3.09020192, 2.88997767, 2.669731  , 3.43058314,\n",
       "       2.80988797, 3.05015707, 2.9100001 , 2.86995525, 2.99008979,\n",
       "       2.95004494, 2.64970857, 2.64970857, 3.51067284, 2.99008979,\n",
       "       2.60966373, 3.19031404, 3.13024677, 3.45060556, 3.25038131,\n",
       "       3.09020192, 3.09020192, 2.70977585, 3.03013464, 3.41056071,\n",
       "       2.56961888, 3.19031404, 2.88997767, 2.5095516 , 3.21033647,\n",
       "       3.15026919, 3.41056071, 2.5896413 , 3.23035889, 3.43058314,\n",
       "       2.93002252, 2.3493722 , 2.84993282, 3.43058314, 2.80988797,\n",
       "       3.23035889, 3.07017949, 2.64970857, 3.29042616, 2.48952918,\n",
       "       3.35049344, 3.21033647, 2.60966373, 3.41056071, 2.86995525,\n",
       "       3.03013464, 3.05015707, 2.68975342, 3.13024677, 2.60966373,\n",
       "       3.51067284, 2.24926008, 2.669731  , 3.43058314, 2.40943948,\n",
       "       3.27040374, 3.15026919, 2.72979827, 3.47062799, 3.21033647,\n",
       "       2.5896413 , 3.31044859, 3.19031404, 3.15026919, 3.29042616,\n",
       "       3.39053829, 2.60966373, 3.15026919, 2.93002252, 2.40943948,\n",
       "       2.72979827, 2.5095516 , 2.5896413 , 3.31044859, 3.39053829,\n",
       "       3.25038131, 3.11022434, 3.29042616, 3.09020192, 2.7498207 ,\n",
       "       2.68975342, 3.27040374, 2.95004494, 2.7498207 , 3.39053829,\n",
       "       2.5896413 , 2.64970857, 3.39053829, 3.43058314, 2.48952918,\n",
       "       2.88997767, 2.99008979, 3.49065041, 3.41056071, 3.23035889,\n",
       "       3.39053829, 2.95004494, 3.13024677, 2.669731  , 2.93002252,\n",
       "       2.54959645, 3.31044859, 3.03013464, 2.62968615, 3.15026919,\n",
       "       2.70977585, 3.25038131, 2.80988797, 2.68975342, 2.46950675,\n",
       "       3.41056071, 3.21033647, 3.43058314, 2.93002252, 2.97006737,\n",
       "       2.60966373, 3.33047101, 3.19031404, 3.45060556, 2.52957403,\n",
       "       3.35049344, 3.47062799, 2.99008979, 2.93002252, 2.8299104 ,\n",
       "       3.35049344, 3.23035889, 2.9100001 , 2.669731  , 3.19031404,\n",
       "       3.23035889, 2.5896413 , 3.33047101, 2.38941705, 2.78986555,\n",
       "       3.15026919, 2.78986555, 3.47062799, 2.84993282, 3.01011222,\n",
       "       3.19031404, 3.37051586, 3.09020192, 2.68975342, 3.39053829,\n",
       "       3.27040374, 3.05015707, 2.78986555, 3.45060556, 2.80988797,\n",
       "       2.72979827, 3.09020192, 3.05015707, 2.56961888, 3.37051586,\n",
       "       2.46950675, 2.64970857, 3.35049344, 2.5896413 , 3.27040374,\n",
       "       3.29042616, 2.9100001 , 3.29042616, 3.31044859, 3.15026919,\n",
       "       3.27040374, 2.95004494, 3.03013464, 2.669731  , 3.13024677,\n",
       "       2.72979827, 3.19031404, 2.5095516 , 3.39053829, 3.11022434,\n",
       "       2.5095516 , 2.9100001 , 3.07017949, 3.33047101, 2.64970857,\n",
       "       2.99008979, 2.84993282, 3.43058314, 3.07017949, 2.76984312,\n",
       "       3.25038131, 2.88997767, 3.01011222, 3.23035889, 3.41056071,\n",
       "       2.8299104 , 2.80988797, 2.7498207 , 2.86995525, 3.11022434,\n",
       "       2.7498207 , 3.13024677, 2.68975342, 3.23035889, 2.9100001 ,\n",
       "       2.60966373, 3.21033647, 3.29042616, 3.35049344, 2.70977585,\n",
       "       3.09020192, 2.3493722 , 2.68975342, 3.17029162, 2.40943948,\n",
       "       2.60966373, 3.27040374, 3.19031404, 3.23035889, 3.11022434,\n",
       "       2.97006737, 2.76984312, 3.25038131, 2.9100001 , 2.64970857,\n",
       "       2.97006737, 2.4294619 , 2.88997767, 3.37051586, 2.64970857,\n",
       "       2.18919281, 2.60966373, 3.09020192, 2.99008979, 3.33047101,\n",
       "       3.15026919, 2.54959645, 2.99008979, 3.47062799, 2.72979827,\n",
       "       2.97006737, 3.49065041, 3.11022434, 2.88997767, 3.23035889,\n",
       "       3.49065041, 3.41056071, 3.47062799, 2.76984312, 3.21033647,\n",
       "       3.45060556, 3.05015707, 2.8299104 , 3.33047101, 2.70977585,\n",
       "       2.70977585, 3.27040374, 2.62968615, 2.5896413 , 2.8299104 ,\n",
       "       2.84993282, 2.99008979, 3.33047101, 3.09020192, 2.88997767,\n",
       "       3.39053829, 3.17029162, 2.76984312, 2.68975342, 2.93002252,\n",
       "       2.78986555, 3.07017949, 3.13024677, 3.21033647, 3.25038131,\n",
       "       2.64970857, 2.72979827, 3.25038131, 3.17029162, 2.4294619 ,\n",
       "       3.05015707, 2.84993282, 2.72979827, 3.15026919, 2.52957403,\n",
       "       3.43058314, 3.23035889, 3.27040374, 3.01011222, 2.99008979,\n",
       "       3.01011222, 3.19031404, 2.68975342, 3.45060556, 2.84993282,\n",
       "       3.29042616, 2.64970857, 3.03013464, 2.76984312, 3.01011222,\n",
       "       3.47062799, 2.88997767, 3.31044859, 2.80988797, 2.7498207 ,\n",
       "       2.68975342, 3.45060556, 3.09020192, 3.21033647, 3.03013464,\n",
       "       2.88997767, 2.5896413 , 2.64970857, 3.05015707, 3.21033647,\n",
       "       2.68975342, 2.64970857, 3.21033647, 2.88997767, 3.15026919,\n",
       "       2.88997767, 2.78986555, 2.72979827, 2.54959645, 3.31044859,\n",
       "       2.669731  , 2.7498207 , 2.8299104 , 3.05015707, 2.5896413 ,\n",
       "       3.03013464, 2.68975342, 3.13024677, 3.13024677, 3.47062799,\n",
       "       3.43058314, 2.669731  , 3.35049344, 3.01011222, 2.72979827,\n",
       "       2.99008979, 2.54959645, 2.80988797, 2.38941705, 2.68975342,\n",
       "       3.25038131, 3.13024677, 3.15026919, 2.4294619 , 3.13024677,\n",
       "       2.4294619 , 3.39053829, 3.23035889, 3.15026919, 2.54959645,\n",
       "       2.99008979, 3.31044859, 2.72979827, 2.84993282, 3.45060556,\n",
       "       3.27040374, 3.27040374, 3.27040374, 3.29042616, 3.21033647,\n",
       "       2.62968615, 3.29042616, 3.17029162, 2.64970857, 3.39053829,\n",
       "       2.54959645, 2.76984312, 2.78986555, 3.21033647, 2.16917038,\n",
       "       3.33047101, 2.54959645, 3.17029162, 3.15026919, 3.31044859,\n",
       "       2.7498207 , 2.9100001 , 2.56961888, 2.56961888, 3.01011222,\n",
       "       3.33047101, 2.4294619 , 2.97006737, 3.01011222, 3.27040374,\n",
       "       3.29042616, 3.13024677, 3.01011222, 3.17029162, 3.03013464,\n",
       "       2.56961888, 2.95004494, 3.17029162, 3.13024677, 3.21033647,\n",
       "       2.95004494, 2.68975342, 3.21033647, 3.29042616, 3.33047101,\n",
       "       3.07017949, 2.99008979, 2.8299104 , 2.76984312, 3.25038131,\n",
       "       3.09020192, 2.54959645, 3.23035889, 3.01011222, 2.78986555,\n",
       "       2.64970857, 3.39053829, 3.07017949, 2.76984312, 2.70977585,\n",
       "       2.99008979, 3.23035889, 2.64970857, 2.70977585, 2.26928251,\n",
       "       3.19031404, 2.86995525, 2.80988797, 2.88997767, 2.72979827,\n",
       "       3.35049344, 2.76984312, 3.31044859, 2.88997767, 2.84993282,\n",
       "       3.05015707, 3.05015707, 3.35049344, 2.669731  , 2.72979827,\n",
       "       2.84993282, 3.01011222, 3.37051586, 2.70977585, 2.97006737,\n",
       "       2.8299104 , 3.47062799, 3.27040374, 2.5095516 , 2.95004494,\n",
       "       3.27040374, 2.64970857, 2.80988797, 2.8299104 , 2.669731  ,\n",
       "       2.76984312, 2.669731  , 2.9100001 , 3.03013464, 2.60966373,\n",
       "       2.669731  , 3.11022434, 2.40943948, 3.05015707, 3.09020192,\n",
       "       3.19031404, 3.27040374, 2.7498207 , 3.29042616, 2.669731  ,\n",
       "       3.49065041, 3.15026919, 2.3493722 ])"
      ]
     },
     "execution_count": 89,
     "metadata": {},
     "output_type": "execute_result"
    }
   ],
   "source": [
    "#i got the idea of finding the y prediction from Muhame's notebook of univariate_linear_regression.ipynb\n",
    "#and i also need it when finding the mean absolute error\n",
    "y_pred = model.predict(X_test)\n",
    "y_pred"
   ]
  },
  {
   "cell_type": "code",
   "execution_count": 90,
   "id": "7ec560a8-2da4-466a-a133-966df31d9038",
   "metadata": {},
   "outputs": [
    {
     "name": "stdout",
     "output_type": "stream",
     "text": [
      "Mean Absolute Error: 1.2362431932728386\n"
     ]
    }
   ],
   "source": [
    "mean_absolute_error = mean_absolute_error(y_test, y_pred)\n",
    "print(f\"Mean Absolute Error: {mean_absolute_error}\")"
   ]
  },
  {
   "cell_type": "markdown",
   "id": "523275dc-709a-47cb-afa0-b2579ce2fb87",
   "metadata": {},
   "source": [
    "## e)"
   ]
  },
  {
   "cell_type": "code",
   "execution_count": 91,
   "id": "c9792226-ebca-4b77-9b67-966eb95ee65f",
   "metadata": {},
   "outputs": [],
   "source": [
    "from sklearn.metrics import mean_squared_error, r2_score \n",
    "#am evaluating the performance of my model using mean squared error and r squared value\n",
    "#i got the idea from Muhame's notebook of univariate_linear_regression.ipynb\n",
    "#the r squared value indicates how well the independent variable explain the variability of the dependent variable. "
   ]
  },
  {
   "cell_type": "code",
   "execution_count": 92,
   "id": "899d5b1e-2451-485a-abb3-a30b5702b23d",
   "metadata": {},
   "outputs": [
    {
     "name": "stdout",
     "output_type": "stream",
     "text": [
      "Mean Squared Error: 2.35256372612981\n",
      "R-squared Value: 0.00890785992399068\n"
     ]
    }
   ],
   "source": [
    "mean_squared_error = mean_squared_error(y_test, y_pred)  \n",
    "r2 = r2_score(y_test, y_pred)  \n",
    "\n",
    "print(f'Mean Squared Error: {mean_squared_error}')  \n",
    "print(f'R-squared Value: {r2}')\n",
    "#my r squared value is closer to 0 hence indicates it isnot a better fit."
   ]
  },
  {
   "cell_type": "markdown",
   "id": "8c4e03d1-4af2-47e4-84ea-a8cb9f35fa24",
   "metadata": {},
   "source": [
    "## f)"
   ]
  },
  {
   "cell_type": "code",
   "execution_count": 93,
   "id": "bb809db5-2a8e-4b87-aba2-27791ef6c8f6",
   "metadata": {},
   "outputs": [
    {
     "data": {
      "image/png": "[encoded data removed]",
      "text/plain": [
       "<Figure size 640x480 with 1 Axes>"
      ]
     },
     "metadata": {},
     "output_type": "display_data"
    }
   ],
   "source": [
    "#i got the idea of plotting the linear regression model like this from Muhames notebook of univariate_linear_regression.ipynb\n",
    "plt.scatter(X_train, y_train, color='blue', label='Data Points')  \n",
    "plt.scatter(X_test, y_pred, color='red', label='Predicted Points')  \n",
    "plt.plot(X_test, y_pred, color='orange', linewidth=2, label='Regression Line')  \n",
    "plt.xlabel('Age')\n",
    "plt.ylabel('Family size')\n",
    "plt.title('Linear Regression Model')\n",
    "plt.legend()\n",
    "plt.show()"
   ]
  },
  {
   "cell_type": "markdown",
   "id": "e31c3c38-803b-472a-91fc-e538306f7859",
   "metadata": {},
   "source": [
    "## BONUS NUMBER"
   ]
  },
  {
   "cell_type": "markdown",
   "id": "056073a9-f74b-45e4-a399-39b41f044fb8",
   "metadata": {},
   "source": [
    "## a)"
   ]
  },
  {
   "cell_type": "code",
   "execution_count": 94,
   "id": "374be7f5-d3ae-424b-8474-f373041c779b",
   "metadata": {},
   "outputs": [],
   "source": [
    "import numpy as np\n",
    "#i imported the library numpy to enable me work with the arrays."
   ]
  },
  {
   "cell_type": "code",
   "execution_count": 95,
   "id": "9de0f45c-7c6a-49e9-914b-80aa77b6686d",
   "metadata": {},
   "outputs": [],
   "source": [
    "x = np.array([[1,2,3],[4,5,2],[3,4,5],[7,8,9],[3,4,8]]) #i created a matrix of 5 by 3"
   ]
  },
  {
   "cell_type": "code",
   "execution_count": 96,
   "id": "8ff8ccbf-aba1-49f2-9486-b9b6b0896a7a",
   "metadata": {},
   "outputs": [
    {
     "data": {
      "text/plain": [
       "(5, 3)"
      ]
     },
     "execution_count": 96,
     "metadata": {},
     "output_type": "execute_result"
    }
   ],
   "source": [
    "x.shape # i checked for its shape to be very sure."
   ]
  },
  {
   "cell_type": "code",
   "execution_count": 97,
   "id": "21ced975-7f22-4e7f-9086-3ea7e722e2ca",
   "metadata": {},
   "outputs": [
    {
     "data": {
      "text/plain": [
       "array([[2, 3],\n",
       "       [6, 7],\n",
       "       [9, 8]])"
      ]
     },
     "execution_count": 97,
     "metadata": {},
     "output_type": "execute_result"
    }
   ],
   "source": [
    "y = np.array([[2,3],[6,7],[9,8]]) #i created a 3 by 2 matrix as requested.\n",
    "y"
   ]
  },
  {
   "cell_type": "code",
   "execution_count": 98,
   "id": "45ad1332-49fb-41d8-8a48-1d61f3144758",
   "metadata": {},
   "outputs": [
    {
     "data": {
      "text/plain": [
       "(3, 2)"
      ]
     },
     "execution_count": 98,
     "metadata": {},
     "output_type": "execute_result"
    }
   ],
   "source": [
    "y.shape #I checked for its shape to ensure that both matrices are fit to peform matrix multiplication)"
   ]
  },
  {
   "cell_type": "code",
   "execution_count": 99,
   "id": "b6f4db31-1f94-4920-bf88-d08d1653aabd",
   "metadata": {},
   "outputs": [
    {
     "data": {
      "text/plain": [
       "array([[ 41,  41],\n",
       "       [ 56,  63],\n",
       "       [ 75,  77],\n",
       "       [143, 149],\n",
       "       [102, 101]])"
      ]
     },
     "execution_count": 99,
     "metadata": {},
     "output_type": "execute_result"
    }
   ],
   "source": [
    "xy = x.dot(y) #matrix multiplication (intro to numpy.ipynb)\n",
    "xy"
   ]
  },
  {
   "cell_type": "markdown",
   "id": "dbcee1d2-74a7-467f-b58d-db3c81412612",
   "metadata": {},
   "source": [
    "## b)"
   ]
  },
  {
   "cell_type": "code",
   "execution_count": 100,
   "id": "151ccccb-b7c5-4256-8f29-38644179f6f2",
   "metadata": {},
   "outputs": [
    {
     "data": {
      "text/plain": [
       "array([[1., 0., 0.],\n",
       "       [0., 1., 0.],\n",
       "       [0., 0., 1.]])"
      ]
     },
     "execution_count": 100,
     "metadata": {},
     "output_type": "execute_result"
    }
   ],
   "source": [
    "#https://stackoverflow.com/questions/10935629/how-to-create-identity-matrix-with-numpy\n",
    "#i have put a 3 in the brackets so that i can get a 3 by 3 matrix.\n",
    "i = np.eye(3)\n",
    "i"
   ]
  },
  {
   "cell_type": "markdown",
   "id": "2c63f190-04db-441b-b356-128f0ea3d6d6",
   "metadata": {},
   "source": [
    "## c)"
   ]
  },
  {
   "cell_type": "code",
   "execution_count": 101,
   "id": "cdd6f06b-0d16-4a46-8a71-fe98ecc38ba5",
   "metadata": {},
   "outputs": [
    {
     "data": {
      "text/plain": [
       "array([10, 11, 12, 13, 14, 15, 16, 17, 18, 19, 20, 21, 22, 23, 24, 25, 26,\n",
       "       27, 28, 29, 30, 31, 32, 33, 34, 35, 36, 37, 38, 39, 40, 41, 42, 43,\n",
       "       44, 45, 46, 47, 48, 49])"
      ]
     },
     "execution_count": 101,
     "metadata": {},
     "output_type": "execute_result"
    }
   ],
   "source": [
    "#https://stackoverflow.com/questions/58526984/how-to-create-numpy-array-with-values-in-specific-range\n",
    "#Got an idea on creating matrices or vectors or arrays using arange if given the range in which it should lie\n",
    "vector = np.arange(10,50)\n",
    "vector"
   ]
  },
  {
   "cell_type": "markdown",
   "id": "5a926d42-0554-4880-91bb-e8408e5d8291",
   "metadata": {},
   "source": [
    "## d)"
   ]
  },
  {
   "cell_type": "code",
   "execution_count": 102,
   "id": "61f2659d-d194-4587-a9f1-2964406ff022",
   "metadata": {},
   "outputs": [
    {
     "data": {
      "text/plain": [
       "array([0., 0., 0., 0., 0., 0., 0., 0., 0., 0.])"
      ]
     },
     "execution_count": 102,
     "metadata": {},
     "output_type": "execute_result"
    }
   ],
   "source": [
    "#i got to know about a null vector from intro to numpy.ipynb\n",
    "# i got an idea on how to create a null vector\n",
    "null_vector = np.zeros(10)\n",
    "null_vector"
   ]
  },
  {
   "cell_type": "markdown",
   "id": "2358c0c7-fbd8-48ee-9954-b434510ad8cf",
   "metadata": {},
   "source": [
    "## e)"
   ]
  },
  {
   "cell_type": "code",
   "execution_count": 103,
   "id": "2340e437-d56c-4919-92c2-71bf3b4703af",
   "metadata": {},
   "outputs": [
    {
     "data": {
      "text/plain": [
       "array([[[0.44602324, 0.11902099, 0.8677094 ],\n",
       "        [0.2660347 , 0.66391939, 0.3553424 ],\n",
       "        [0.6161014 , 0.25301818, 0.09442252]],\n",
       "\n",
       "       [[0.05601504, 0.80618753, 0.46552304],\n",
       "        [0.7550673 , 0.94575817, 0.28476213],\n",
       "        [0.32214937, 0.26999069, 0.96732101]],\n",
       "\n",
       "       [[0.76549623, 0.9438708 , 0.69111286],\n",
       "        [0.69588551, 0.18759871, 0.67937397],\n",
       "        [0.96670616, 0.60925773, 0.48020738]]])"
      ]
     },
     "execution_count": 103,
     "metadata": {},
     "output_type": "execute_result"
    }
   ],
   "source": [
    "rand = np.random.rand(3,3,3) #i got to know about arrays of random values from random numbers, intro to numpy.ipynb\n",
    "rand"
   ]
  },
  {
   "cell_type": "markdown",
   "id": "3526aa1a-add8-41ae-9572-2c8f8940e030",
   "metadata": {},
   "source": [
    "## f)"
   ]
  },
  {
   "cell_type": "code",
   "execution_count": 104,
   "id": "8544dc83-3c30-4242-811e-4b7d6a42530f",
   "metadata": {},
   "outputs": [
    {
     "data": {
      "text/plain": [
       "array([[0, 0, 0, 0, 0],\n",
       "       [1, 0, 0, 0, 0],\n",
       "       [0, 2, 0, 0, 0],\n",
       "       [0, 0, 3, 0, 0],\n",
       "       [0, 0, 0, 4, 0]])"
      ]
     },
     "execution_count": 104,
     "metadata": {},
     "output_type": "execute_result"
    }
   ],
   "source": [
    "#https://stackoverflow.com/questions/66306892/how-to-get-k-1-combinations-of-numpy-arangek\n",
    "#got to know something about arange and using it to get a matrix with values just below the diagonal\n",
    "diag = np.diag(np.arange(1,5), k=-1)\n",
    "diag\n",
    "#row 1: all zeros because k=-1 only affects rows below the main diagonal."
   ]
  },
  {
   "cell_type": "markdown",
   "id": "1ecf39fe-e141-46b9-a45a-a6cc331b0a3f",
   "metadata": {},
   "source": [
    "## g)"
   ]
  },
  {
   "cell_type": "code",
   "execution_count": 105,
   "id": "a03c84b6-65fc-4bbe-b719-4c2e2ce5fb3a",
   "metadata": {
    "scrolled": true
   },
   "outputs": [
    {
     "data": {
      "text/plain": [
       "array([[0.08361825, 0.35721179, 0.95731228, 0.4423629 , 0.19586351],\n",
       "       [0.40406619, 0.02409698, 0.66319041, 0.40719112, 0.48102027],\n",
       "       [0.85538383, 0.80080121, 0.40888918, 0.74275961, 0.86761322],\n",
       "       [0.79844662, 0.3496416 , 0.91132762, 0.38605688, 0.8092688 ],\n",
       "       [0.61246796, 0.19181849, 0.70345642, 0.12786385, 0.42934481]])"
      ]
     },
     "execution_count": 105,
     "metadata": {},
     "output_type": "execute_result"
    }
   ],
   "source": [
    "#https://www.w3resource.com/python-exercises/numpy/python-numpy-random-exercise-7.php#:~:text=x%20%3D%20(x%20%2D%20xmin)%2F(,stored%20back%20into%20array%20x.\n",
    "#normalized_matrix = (x - xmin)/ (xmax - xmin)\n",
    "#i am going to find the maximum and minimum of my matrix and use the formular above to get a normalized matrix. \n",
    "#am creating a random matrix z which is 5 by 5\n",
    "z = np.random.rand(5,5)\n",
    "z"
   ]
  },
  {
   "cell_type": "code",
   "execution_count": 106,
   "id": "cae3def5-ab7b-4bb5-9b3a-03679a7bcb61",
   "metadata": {},
   "outputs": [
    {
     "data": {
      "text/plain": [
       "array([[0.06378086, 0.35695387, 1.        , 0.44819874, 0.18405884],\n",
       "       [0.40716136, 0.        , 0.68482956, 0.41050992, 0.48962259],\n",
       "       [0.89077714, 0.83228836, 0.4123295 , 0.77009307, 0.9038817 ],\n",
       "       [0.82976526, 0.34884193, 0.95072449, 0.38786323, 0.84136192],\n",
       "       [0.63047721, 0.17972435, 0.72797717, 0.11119285, 0.43424902]])"
      ]
     },
     "execution_count": 106,
     "metadata": {},
     "output_type": "execute_result"
    }
   ],
   "source": [
    "z_max = z.max()\n",
    "z_max\n",
    "z_min = z.min()\n",
    "z_min\n",
    "normalized_matrix = (z - z_min)/(z_max - z_min)\n",
    "normalized_matrix"
   ]
  },
  {
   "cell_type": "markdown",
   "id": "51d88a4b-aff6-46a8-af89-fcc11f961350",
   "metadata": {},
   "source": [
    "## h)"
   ]
  },
  {
   "cell_type": "code",
   "execution_count": 107,
   "id": "68fe4200-d8b9-4f7a-94d5-f0dd8678b3d4",
   "metadata": {},
   "outputs": [
    {
     "name": "stdout",
     "output_type": "stream",
     "text": [
      "Yesterday: 2024-12-11\n",
      "Today: 2024-12-12\n",
      "Tomorrow: 2024-12-13\n"
     ]
    }
   ],
   "source": [
    "#https://www.projectpro.io/recipes/get-dates-of-yesterday-today-and-tomorrow\n",
    "#i got to know on how to get today, yesterday and tomorrow's date from the link above.\n",
    "today = np.datetime64('today', 'D')# datetime64 is a numpy function for finding date and time\n",
    "yesterday = today - np.timedelta64(1, 'D')\n",
    "tomorrow = today + np.timedelta64(1, 'D')# np.timedelta64 is a duration\n",
    "print(\"Yesterday:\", yesterday)#D is the unit for days\n",
    "print(\"Today:\", today)\n",
    "print(\"Tomorrow:\", tomorrow)"
   ]
  },
  {
   "cell_type": "markdown",
   "id": "77400c54-dc24-4a48-a333-bf4bcb49b0c4",
   "metadata": {},
   "source": [
    "## i)"
   ]
  },
  {
   "cell_type": "code",
   "execution_count": 108,
   "id": "4ec5d6af-1080-466e-8d8b-db26f975a438",
   "metadata": {},
   "outputs": [
    {
     "data": {
      "text/plain": [
       "(array([0, 1, 4]),)"
      ]
     },
     "execution_count": 108,
     "metadata": {},
     "output_type": "execute_result"
    }
   ],
   "source": [
    "#https://stackoverflow.com/questions/4588628/find-indices-of-elements-equal-to-zero-in-a-numpy-array\n",
    "# i got to learn about finding indices of non-zero elements and this is how you approach the question\n",
    "array = np.array([1,2,0,0,4,0])\n",
    "non_zero = np.nonzero(array)\n",
    "non_zero"
   ]
  }
 ],
 "metadata": {
  "kernelspec": {
   "display_name": "Python 3 (ipykernel)",
   "language": "python",
   "name": "python3"
  },
  "language_info": {
   "codemirror_mode": {
    "name": "ipython",
    "version": 3
   },
   "file_extension": ".py",
   "mimetype": "text/x-python",
   "name": "python",
   "nbconvert_exporter": "python",
   "pygments_lexer": "ipython3",
   "version": "3.12.5"
  }
 },
 "nbformat": 4,
 "nbformat_minor": 5
}
